{
 "cells": [
  {
   "cell_type": "markdown",
   "metadata": {},
   "source": [
    "Importing Libraries"
   ]
  },
  {
   "cell_type": "code",
   "execution_count": 1,
   "metadata": {
    "collapsed": false
   },
   "outputs": [
    {
     "name": "stdout",
     "output_type": "stream",
     "text": [
      "INITIALIZED...\n"
     ]
    }
   ],
   "source": [
    "import sys\n",
    "import os\n",
    "import numpy as np\n",
    "import renders as rs\n",
    "import pandas as pd \n",
    "import matplotlib.pyplot as plt\n",
    "from sklearn.decomposition import PCA\n",
    "from IPython.display import display # Allows the use of display() for DataFrames\n",
    "from sklearn.externals import joblib\n",
    "from sklearn.feature_selection import SelectKBest\n",
    "from sklearn.feature_selection import chi2\n",
    "from sklearn.feature_selection import RFECV\n",
    "from sklearn.cross_validation import StratifiedKFold\n",
    "from sklearn.svm import SVC\n",
    "# Show matplotlib plots inline (nicely formatted in the notebook)\n",
    "%matplotlib inline\n",
    "sys.path.append('/Users/senzari/Machine_Learning/stats/src/stats/match_stats.py')\n",
    "sys.path.append('/Users/senzari/Machine_Learning/stats/src/stats/form_model.py')\n",
    "sys.path.append('/anaconda/envs/stats/lib/python3.5/site-packages')\n",
    "sys.path.append('/Users/senzari/Machine_Learning/stats/src/stats/model_libs.py')\n",
    "sys.path.append('/Users/senzari/Machine_Learning/stats/src/stats/form_data.py')\n",
    "sys.path.append('/Users/senzari/Machine_Learning/stats')\n",
    "sys.path.append('/Users/senzari/Machine_Learning/stats/src/stats')\n",
    "# print(sys.path)\n",
    "os.chdir('/Users/senzari/Machine_Learning/stats/src')\n",
    "#print(os.getcwd())\n",
    "\n",
    "# Variables\n",
    "round_number = 26\n",
    "target_col = 'points'\n",
    "ignore_cols = ['match_id', 'team_id', 'team_name', 'opp_id', 'opp_name', 'scheduled']\n",
    "testing = False\n",
    "\n",
    "from stats import form_data, match_stats, model_libs, form_model, predict_matches"
   ]
  },
  {
   "cell_type": "markdown",
   "metadata": {},
   "source": [
    "Initially use features just in database, ran PCA and tried to enhance the features that had the most influence...\n",
    "\n",
    "Data essentially has 2 variances.  Home vs Away stats and the Extended Features of Current Team, Opponent, Current Teams Previous Opponents, and Opponents Opponent"
   ]
  },
  {
   "cell_type": "code",
   "execution_count": 2,
   "metadata": {
    "collapsed": false
   },
   "outputs": [
    {
     "name": "stdout",
     "output_type": "stream",
     "text": [
      "Data Loaded...\n"
     ]
    }
   ],
   "source": [
    "data_csv = 'round' + str(round_number) + '.csv'\n",
    "\n",
    "if testing:\n",
    "    raw_data = form_data.run_data()\n",
    "    raw_data.to_csv(data_csv)\n",
    "    print(\"Raw Data Saved to CSV\")\n",
    "else:\n",
    "    #Reading in a CSV adds the first index column\n",
    "    raw_data = pd.read_csv(data_csv)\n",
    "    raw_data = raw_data.drop(raw_data.columns[[0]], axis=1)\n",
    "    \n",
    "td = model_libs._clone_and_drop(raw_data, ignore_cols)\n",
    "(y, X) = model_libs._extract_target(td, target_col)\n",
    "\n",
    "pd.set_option(\"display.max_columns\", 85)\n",
    "print('Data Loaded...')"
   ]
  },
  {
   "cell_type": "code",
   "execution_count": null,
   "metadata": {
    "collapsed": false
   },
   "outputs": [],
   "source": [
    "print(raw_data.shape)\n",
    "#display(raw_data.head())"
   ]
  },
  {
   "cell_type": "code",
   "execution_count": 3,
   "metadata": {
    "collapsed": false
   },
   "outputs": [
    {
     "name": "stdout",
     "output_type": "stream",
     "text": [
      "Training SVC Model\n",
      "F1 score for training set: 0.708971037196\n",
      "F1 score for test set: 0.410595682856\n",
      "Finished SVC Modeling\n",
      " ========================== \n",
      "Training GMM Modeling\n",
      "Silhouette Score :: 0.163906657639 for 2 Clusters\n",
      "Silhouette Score :: 0.124887130696 for 3 Clusters\n",
      "Silhouette Score :: 0.128291780384 for 4 Clusters\n",
      "Finished GMM Modeling\n",
      " ========================== \n",
      "Training K Neighbors Classifier Model\n",
      "KNN Score :: 0.683333333333\n",
      "Finished K-Means Modeling\n",
      " ========================== \n",
      "Training Gaussian NB Model\n",
      "F1 score for training set: 0.565839547885\n",
      "F1 score for test set: 0.37443718228\n",
      "Finished Gaussian NB Modeling\n"
     ]
    }
   ],
   "source": [
    "models = ['svc', 'gmm', 'knn', 'gnb']\n",
    "\n",
    "\"\"\"No Cross-Validation and No Tuning\"\"\"\n",
    "def train_models(round_num, X, y):\n",
    "    \n",
    "    if os.path.isdir(\"/models/\" + str(round_num)):\n",
    "        print('Making New Directory for the Round')\n",
    "        os.chdir('/Users/senzari/Machine_Learning/stats/src/models')\n",
    "        os.makedirs(str(round_num))\n",
    "        os.chdir('/Users/senzari/Machine_Learning/stats/src')\n",
    "    \n",
    "    for i in models:\n",
    "        \n",
    "        model_round = 'models/' + str(round_num) + '/' + str(i) + '_round_' + str(round_num) + '.pk1'\n",
    "        \n",
    "        if i == 'svc':\n",
    "            svc = form_model.build_model(X, y, i)\n",
    "            joblib.dump(svc, model_round)\n",
    "        elif i == 'gmm':\n",
    "            gmm = form_model.build_model(X, y, i)\n",
    "            joblib.dump(gmm, model_round)\n",
    "        elif i == 'knn':\n",
    "            kmeans = form_model.build_model(X, y, i)\n",
    "            joblib.dump(kmeans, model_round)\n",
    "        elif i == 'gnb':\n",
    "            gnb = form_model.build_model(X, y, i)\n",
    "            joblib.dump(gnb, model_round)\n",
    "        \n",
    "    return svc, gmm, kmeans, gnb\n",
    "        \n",
    "        \n",
    "def load_models(round_num):\n",
    "    \n",
    "    for i in models:\n",
    "        model_round = 'models/' + str(round_num) + '/' + str(i) + '_round_' + str(round_num) + '.pk1'\n",
    "        if i == 'svc':\n",
    "             svc= joblib.load(model_round)\n",
    "        elif i == 'gmm':\n",
    "            gmm = joblib.load(model_round)\n",
    "        elif i == 'knn':\n",
    "            kmeans = joblib.load(model_round)\n",
    "        elif i == 'gnb':\n",
    "            gnb = joblib.load(model_round)\n",
    "        \n",
    "        print(\"Success :: Loaded - \" + str(i))\n",
    "        \n",
    "    return svc, gmm, kmeans, gnb\n",
    "\n",
    "\n",
    "# svc, gmm, knn, gnb = train_models(round_number, X, y)\n",
    "svc, gmm, knn, gnb = load_models(round_number)"
   ]
  },
  {
   "cell_type": "markdown",
   "metadata": {},
   "source": [
    "Find all matches"
   ]
  },
  {
   "cell_type": "code",
   "execution_count": 4,
   "metadata": {
    "collapsed": false
   },
   "outputs": [
    {
     "name": "stdout",
     "output_type": "stream",
     "text": [
      "   match_id           scheduled  home_id  away_id               home_team  \\\n",
      "0       486 2016-09-01 23:00:00       24       33        New York City FC   \n",
      "1       487 2016-09-03 23:00:00       28       31  Vancouver Whitecaps FC   \n",
      "2       488 2016-09-03 23:30:00       36       22  New England Revolution   \n",
      "3       489 2016-09-04 00:30:00       40       25            Chicago Fire   \n",
      "4       490 2016-09-04 01:00:00       21       30               FC Dallas   \n",
      "5       491 2016-09-04 02:30:00       26       39               LA Galaxy   \n",
      "\n",
      "            away_team  \n",
      "0           DC United  \n",
      "1        NY Red Bulls  \n",
      "2     Colorado Rapids  \n",
      "3  Philadelphia Union  \n",
      "4    Portland Timbers  \n",
      "5       Columbus Crew  \n"
     ]
    }
   ],
   "source": [
    "upcoming_matches, match_details = predict_matches.get_upcoming_matches()\n",
    "print(upcoming_matches)"
   ]
  },
  {
   "cell_type": "code",
   "execution_count": 5,
   "metadata": {
    "collapsed": false,
    "scrolled": true
   },
   "outputs": [
    {
     "name": "stdout",
     "output_type": "stream",
     "text": [
      "[ 1.  3.  1.  0.  3.  3.  1.  0.  1.  0.  0.  3.]\n",
      "[3 2 3 3 3 2 3 1 3 1 3 3]\n",
      "[ 3.  0.  1.  3.  0.  0.  0.  0.  1.  0.  0.  0.]\n",
      "[ 1.  1.  1.  1.  1.  3.  1.  0.  1.  1.  1.  1.]\n"
     ]
    }
   ],
   "source": [
    "for i in models:\n",
    "    if i == 'svc':\n",
    "        svc_preds, upcoming_data = predict_matches.predictions(upcoming_matches, match_details, svc)\n",
    "        print(svc_preds)\n",
    "    elif i == 'gmm':\n",
    "        gmm_preds, upcoming_data = predict_matches.predictions(upcoming_matches, match_details, gmm)\n",
    "        print(gmm_preds)\n",
    "    elif i == 'knn':\n",
    "        knn_preds, upcoming_data = predict_matches.predictions(upcoming_matches, match_details, knn)\n",
    "        print(knn_preds)\n",
    "    elif i == 'gnb':\n",
    "        gnb_preds, upcoming_data = predict_matches.predictions(upcoming_matches, match_details, gnb)\n",
    "        print(gnb_preds)"
   ]
  },
  {
   "cell_type": "markdown",
   "metadata": {},
   "source": [
    "Adds list of predictions to the upcoming matches and puts them in a CSV"
   ]
  },
  {
   "cell_type": "code",
   "execution_count": 6,
   "metadata": {
    "collapsed": false
   },
   "outputs": [],
   "source": [
    "columns = ['team_name', 'opp_name', 'scheduled']\n",
    "# Remove all columns except the ones above\n",
    "upcoming_matches = upcoming_data[columns]\n",
    "# Add predictions to the end of that DF\n",
    "results = pd.DataFrame({'SVC': svc_preds, 'GMM': gmm_preds, 'KNN': knn_preds, 'GNB': gnb_preds})\n",
    "upcoming_matches = upcoming_matches.join(results)\n",
    "reordered_matches = pd.DataFrame([])\n",
    "\n",
    "for rows in upcoming_matches.iterrows():\n",
    "    for i in upcoming_matches['team_name']:\n",
    "        if rows[1]['opp_name'] == i:\n",
    "            reordered_matches = reordered_matches.append(rows[1])\n",
    "            reordered_matches = reordered_matches.append(upcoming_matches[upcoming_matches['team_name'].isin([i])])\n",
    "\n",
    "reordered_matches = reordered_matches.drop_duplicates() \n",
    "columns = ['scheduled', 'team_name', 'opp_name', 'SVC', 'KNN', 'GMM', 'GNB']\n",
    "reordered_matches = reordered_matches[columns]\n",
    "# upcoming_matches = upcoming_matches[(upcoming_matches['scheduled'] < '2016-08-26')]\n",
    "reordered_matches.to_csv('predictions_' + str(round_number) + '.csv')\n",
    "print('Prediction CSV saved')"
   ]
  },
  {
   "cell_type": "markdown",
   "metadata": {},
   "source": [
    "Tune Models\n",
    "Doesn't really do anything now, need to ask some questions to get better.  Maybe removing some features will help."
   ]
  },
  {
   "cell_type": "code",
   "execution_count": null,
   "metadata": {
    "collapsed": false
   },
   "outputs": [],
   "source": [
    "for i in models:\n",
    "    form_model.build_tuned_model(X, y, i)"
   ]
  },
  {
   "cell_type": "markdown",
   "metadata": {},
   "source": [
    "Trying to remove some useless features"
   ]
  },
  {
   "cell_type": "code",
   "execution_count": null,
   "metadata": {
    "collapsed": false
   },
   "outputs": [],
   "source": [
    "print(raw_data.shape)\n",
    "reduced_data = form_data.variance_features(raw_data)\n",
    "print(reduced_data.shape)"
   ]
  },
  {
   "cell_type": "code",
   "execution_count": null,
   "metadata": {
    "collapsed": false
   },
   "outputs": [],
   "source": [
    "svc = SVC(kernel=\"linear\")\n",
    "rfecv = RFECV(estimator=svc, step=1, cv=StratifiedKFold(y, 2),\n",
    "              scoring='accuracy')\n",
    "rfecv.fit(X, y)\n",
    "\n",
    "# Plot number of features VS. cross-validation scores\n",
    "plt.figure()\n",
    "plt.xlabel(\"Number of features selected\")\n",
    "plt.ylabel(\"Cross validation score (nb of correct classifications)\")\n",
    "plt.plot(range(1, len(rfecv.grid_scores_) + 1), rfecv.grid_scores_)\n",
    "plt.show()\n",
    "\n",
    "# Need to normalize the data\n",
    "\"\"\"norm_data = X.copy(deep=True)\n",
    "norm_data = norm_data.apply(lambda x: (x - x.min()) / (x.max() - x.min()))\n",
    "X_new = SelectKBest(chi2, k=50).fit_transform(norm_data, y)\n",
    "print(X.shape)\"\"\""
   ]
  },
  {
   "cell_type": "code",
   "execution_count": null,
   "metadata": {
    "collapsed": false
   },
   "outputs": [],
   "source": [
    "from sklearn.svm import SVC\n",
    "from sklearn.datasets import load_digits\n",
    "from sklearn.feature_selection import RFE\n",
    "\n",
    "# Create the RFE object and rank each pixel\n",
    "svc = SVC(kernel=\"linear\", C=1)\n",
    "rfe = RFE(estimator=svc, n_features_to_select=1, step=1)\n",
    "rfe.fit(X, y)\n",
    "print(rfe.ranking_)\n"
   ]
  },
  {
   "cell_type": "code",
   "execution_count": null,
   "metadata": {
    "collapsed": false
   },
   "outputs": [],
   "source": [
    "ranked_features = pd.DataFrame(index=range(448))\n",
    "for a in range(len(rfe.ranking_)):\n",
    "    for i in range(len(rfe.ranking_)):\n",
    "        if rfe.ranking_[i] == a+1:\n",
    "            ranked_features = ranked_features.join(X.ix[:,i])\n",
    "            \n",
    "display(ranked_features.describe())"
   ]
  },
  {
   "cell_type": "code",
   "execution_count": null,
   "metadata": {
    "collapsed": false
   },
   "outputs": [],
   "source": []
  },
  {
   "cell_type": "markdown",
   "metadata": {},
   "source": [
    "Let's try to reduce the number of features to at least 25 although optimal seems likely around ~8 features"
   ]
  },
  {
   "cell_type": "code",
   "execution_count": null,
   "metadata": {
    "collapsed": false
   },
   "outputs": [],
   "source": [
    "for x in xrange(5, 25):\n",
    "    print('X :: {}'.format(x))\n",
    "    svc, gmm, knn, gnb = train_models(round_number, ranked_features.iloc[:, 1:x], y)\n",
    "    print(' ============================ ')\n",
    "    "
   ]
  },
  {
   "cell_type": "markdown",
   "metadata": {},
   "source": [
    "try PCA on original training data "
   ]
  },
  {
   "cell_type": "code",
   "execution_count": null,
   "metadata": {
    "collapsed": false
   },
   "outputs": [],
   "source": [
    "pca = PCA(n_components=5)\n",
    "pca.fit(X)\n",
    "# Generate PCA results plot\n",
    "pca_results = rs.pca_results(X, pca)"
   ]
  },
  {
   "cell_type": "code",
   "execution_count": null,
   "metadata": {
    "collapsed": false
   },
   "outputs": [],
   "source": [
    "# TODO: Apply a PCA transformation the good data\n",
    "reduced_data = pca.transform(X)\n",
    "# display(pd.DataFrame(np.round(reduced_data, 4), columns = ['D1', 'D2', 'D3', 'D4', 'D5']))\n",
    "svc, gmm, knn, gnb = train_models(round_number, reduced_data, y)"
   ]
  },
  {
   "cell_type": "code",
   "execution_count": null,
   "metadata": {
    "collapsed": true
   },
   "outputs": [],
   "source": [
    "Try PCA on ranked features "
   ]
  },
  {
   "cell_type": "code",
   "execution_count": null,
   "metadata": {
    "collapsed": false
   },
   "outputs": [],
   "source": [
    "svc, gmm, knn, gnb = train_models(round_number, reduced_data, y)"
   ]
  },
  {
   "cell_type": "code",
   "execution_count": null,
   "metadata": {
    "collapsed": false
   },
   "outputs": [],
   "source": [
    "pca = PCA(n_components=5)\n",
    "pca.fit(ranked_features.iloc[:, 1:23]) # 23 was just the highest value when testing\n",
    "# Generate PCA results plot\n",
    "pca_results = rs.pca_results(ranked_features.iloc[:, 1:23], pca)"
   ]
  },
  {
   "cell_type": "code",
   "execution_count": null,
   "metadata": {
    "collapsed": false
   },
   "outputs": [],
   "source": [
    "# TODO: Apply a PCA transformation the good data\n",
    "reduced_data = pca.transform(ranked_features.iloc[:, 1:23])\n",
    "# display(pd.DataFrame(np.round(reduced_data, 4), columns = ['D1', 'D2', 'D3', 'D4', 'D5']))\n",
    "svc, gmm, knn, gnb = train_models(round_number, reduced_data, y)"
   ]
  },
  {
   "cell_type": "markdown",
   "metadata": {},
   "source": [
    "Let's try removing ties similar to the other project"
   ]
  },
  {
   "cell_type": "code",
   "execution_count": null,
   "metadata": {
    "collapsed": false
   },
   "outputs": [],
   "source": [
    "target_col = 'points'\n",
    "ignore_cols = ['match_id', 'team_id', 'team_name', 'opp_id', 'opp_name', 'scheduled']\n",
    "\n",
    "filtered_data = raw_data[raw_data.points != 1]\n",
    "fd = model_libs._clone_and_drop(filtered_data, ignore_cols)\n",
    "(f_y, f_X) = model_libs._extract_target(fd, target_col)\n",
    "print(f_X.shape)"
   ]
  },
  {
   "cell_type": "code",
   "execution_count": null,
   "metadata": {
    "collapsed": false
   },
   "outputs": [],
   "source": [
    "svc, gmm, knn, gnb = train_models(round_number, f_X, f_y)"
   ]
  },
  {
   "cell_type": "code",
   "execution_count": null,
   "metadata": {
    "collapsed": false
   },
   "outputs": [],
   "source": [
    "# ha = home-away\n",
    "standard_cols = ['games_played', 'is_home', 'avg_points', 'goals_for', 'goals_against', 'avg_goals', 'margin', 'goal_diff',\n",
    "                'win_percentage', 'sos', 'opp_avg_points', 'opp_avg_goals', 'opp_margin', 'opp_goal_diff', 'opp_win_percentage',\n",
    "                'opp_opp_record', 'points']\n",
    "# 17 each\n",
    "home_cols = ['current_team_home_possession', 'current_team_home_attacks', 'current_team_home_dangerous_attacks', 'current_team_home_yellow_card',\n",
    "            'current_team_home_corner_kicks', 'current_team_home_shots_on_target', 'current_team_home_shots_total', 'current_team_home_ball_safe',\n",
    "            'current_team_home_played', 'current_opp_away_attacks', 'current_opp_away_dangerous_attacks', 'current_opp_away_yellow_card',\n",
    "            'current_opp_away_corner_kicks', 'current_opp_away_shots_on_target', 'current_opp_away_shots_total', 'current_opp_away_ball_safe',\n",
    "            'current_opp_away_played']\n",
    "away_cols = ['current_team_away_possession', 'current_team_away_attacks', 'current_team_away_dangerous_attacks', 'current_team_away_yellow_card', \n",
    "            'current_team_away_corner_kicks', 'current_team_away_shots_on_target', 'current_team_away_shots_total', 'current_team_away_ball_safe', \n",
    "            'current_team_away_played', 'current_opp_home_attacks', 'current_opp_home_dangerous_attacks', 'current_opp_home_yellow_card', 'current_opp_home_corner_kicks', \n",
    "             'current_opp_home_shots_on_target', 'current_opp_home_shots_total', 'current_opp_home_ball_safe', 'current_opp_home_played']\n",
    "\n",
    "def rename_column(label):\n",
    "    if label.count('_home_') > 0:\n",
    "        new_name = label.replace('_home_', '_')\n",
    "    elif label.count('_away_') > 0:\n",
    "        new_name = label.replace('_away_', '_')\n",
    "    return new_name\n",
    "\n",
    "# Creates new column list for merged columns\n",
    "merged_cols = []\n",
    "\n",
    "for cols in home_cols:\n",
    "    merged_cols.append(rename_column(cols))\n",
    "    \n",
    "# Creates a Home and Away Table with Standard and Home/Away Columns.  Will evenutally merge together\n",
    "ha_data = model_libs._clone_and_drop(raw_data, ignore_cols)\n",
    "home_data = ha_data.loc[ha_data.loc[:, 'is_home'] == 1, standard_cols + home_cols]\n",
    "away_data = ha_data.loc[ha_data.loc[:, 'is_home'] == 0, standard_cols + away_cols]\n",
    "\n",
    "#display(away_data.describe())\n",
    "#display(home_data.describe())\n",
    "\n",
    "# Appends the Home Table with the Away Table\n",
    "ha_data = home_data.append(away_data)\n",
    "\n",
    "def pick_column(home, away):\n",
    "    if np.isnan(home):\n",
    "        return away\n",
    "    elif np.isnan(away):\n",
    "        return home\n",
    "\n",
    "# Combine Home/Away Columns into one for Current Team and Opponent.  Cuts down on Features\n",
    "# Adds from whatever column that doesn't have Nan\n",
    "for c in range(len(merged_cols)):\n",
    "    ha_data[merged_cols[c]] = ha_data.apply(lambda row: pick_column(row[home_cols[c]], row[away_cols[c]]), axis=1 )\n",
    "\n",
    "ha_data = ha_data.drop(home_cols + away_cols, axis=1)\n",
    "    \n",
    "display(ha_data.describe())\n",
    "\n",
    "print(ha_data.shape)\n",
    "#(y, X) = model_libs._extract_target(home_away_data, target_col)"
   ]
  },
  {
   "cell_type": "code",
   "execution_count": null,
   "metadata": {
    "collapsed": false
   },
   "outputs": [],
   "source": [
    "(y, X) = model_libs._extract_target(ha_data, target_col)\n",
    "print(X.shape)"
   ]
  },
  {
   "cell_type": "code",
   "execution_count": null,
   "metadata": {
    "collapsed": false
   },
   "outputs": [],
   "source": [
    "svc, gmm, knn, gnb = train_models(round_number, X, y)"
   ]
  },
  {
   "cell_type": "markdown",
   "metadata": {},
   "source": [
    "Now testing table with standard and extended features"
   ]
  },
  {
   "cell_type": "code",
   "execution_count": null,
   "metadata": {
    "collapsed": false
   },
   "outputs": [],
   "source": [
    "# ef = extended features\n",
    "ef_data = model_libs._clone_and_drop(raw_data, ignore_cols)\n",
    "print(ef_data.shape)\n",
    "ef_data = ef_data.drop(home_cols + away_cols, axis=1)\n",
    "print(ef_data.shape)"
   ]
  },
  {
   "cell_type": "code",
   "execution_count": null,
   "metadata": {
    "collapsed": false
   },
   "outputs": [],
   "source": [
    "(y, X) = model_libs._extract_target(ef_data, target_col)\n",
    "svc, gmm, kmeans, gnb = train_models(round_number, X, y)"
   ]
  },
  {
   "cell_type": "code",
   "execution_count": null,
   "metadata": {
    "collapsed": true
   },
   "outputs": [],
   "source": []
  }
 ],
 "metadata": {
  "kernelspec": {
   "display_name": "Python 2",
   "language": "python",
   "name": "python2"
  },
  "language_info": {
   "codemirror_mode": {
    "name": "ipython",
    "version": 2
   },
   "file_extension": ".py",
   "mimetype": "text/x-python",
   "name": "python",
   "nbconvert_exporter": "python",
   "pygments_lexer": "ipython2",
   "version": "2.7.11"
  }
 },
 "nbformat": 4,
 "nbformat_minor": 0
}
