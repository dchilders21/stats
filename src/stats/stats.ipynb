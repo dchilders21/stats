{
 "cells": [
  {
   "cell_type": "markdown",
   "metadata": {},
   "source": [
    "Importing Libraries"
   ]
  },
  {
   "cell_type": "code",
   "execution_count": 1,
   "metadata": {
    "collapsed": false
   },
   "outputs": [
    {
     "name": "stdout",
     "output_type": "stream",
     "text": [
      "INITIALIZED...\n"
     ]
    }
   ],
   "source": [
    "import sys\n",
    "import os\n",
    "import numpy as np\n",
    "import renders as rs\n",
    "import pandas as pd \n",
    "import matplotlib.pyplot as plt\n",
    "from sklearn.decomposition import PCA\n",
    "from IPython.display import display # Allows the use of display() for DataFrames\n",
    "from sklearn.externals import joblib\n",
    "from sklearn.feature_selection import SelectKBest\n",
    "from sklearn.feature_selection import chi2\n",
    "from sklearn.feature_selection import RFECV\n",
    "from sklearn.cross_validation import StratifiedKFold\n",
    "from sklearn.svm import SVC\n",
    "# Show matplotlib plots inline (nicely formatted in the notebook)\n",
    "%matplotlib inline\n",
    "sys.path.append('/Users/senzari/Machine_Learning/stats/src/stats/match_stats.py')\n",
    "sys.path.append('/Users/senzari/Machine_Learning/stats/src/stats/form_model.py')\n",
    "sys.path.append('/anaconda/envs/stats/lib/python3.5/site-packages')\n",
    "sys.path.append('/Users/senzari/Machine_Learning/stats/src/stats/model_libs.py')\n",
    "sys.path.append('/Users/senzari/Machine_Learning/stats/src/stats/form_data.py')\n",
    "sys.path.append('/Users/senzari/Machine_Learning/stats')\n",
    "sys.path.append('/Users/senzari/Machine_Learning/stats/src/stats')\n",
    "# print(sys.path)\n",
    "os.chdir('/Users/senzari/Machine_Learning/stats/src')\n",
    "#print(os.getcwd())\n",
    "# Variables\n",
    "round_number = 26\n",
    "\n",
    "from stats import form_data, match_stats, model_libs, form_model, predict_matches"
   ]
  },
  {
   "cell_type": "markdown",
   "metadata": {},
   "source": [
    "Initially use features just in database, ran PCA and tried to enhance the features that had the most influence..."
   ]
  },
  {
   "cell_type": "code",
   "execution_count": 2,
   "metadata": {
    "collapsed": false
   },
   "outputs": [
    {
     "name": "stdout",
     "output_type": "stream",
     "text": [
      "Data Loaded...\n"
     ]
    }
   ],
   "source": [
    "# Reading in a CSV adds the first index column\n",
    "training_data = pd.read_csv('round' + str(round_number) + '.csv')\n",
    "training_data = training_data.drop(training_data.columns[[0]], axis=1)\n",
    "\n",
    "target_col = 'points'\n",
    "ignore_cols = ['match_id', 'team_id', 'team_name', 'opp_id', 'opp_name', 'scheduled']\n",
    "\n",
    "td = model_libs._clone_and_drop(training_data, ignore_cols)\n",
    "(y, X) = model_libs._extract_target(td, target_col)\n",
    "print('Data Loaded...')"
   ]
  },
  {
   "cell_type": "code",
   "execution_count": 3,
   "metadata": {
    "collapsed": false
   },
   "outputs": [],
   "source": [
    "models = ['svc', 'gmm', 'kmeans', 'gnb']\n",
    "\n",
    "def train_models(round_num, X, y):\n",
    "    \n",
    "    if os.path.isdir(\"/models/\" + str(round_num)):\n",
    "        print('Making New Directory for the Round')\n",
    "        os.chdir('/Users/senzari/Machine_Learning/stats/src/models')\n",
    "        os.makedirs(str(round_num))\n",
    "        os.chdir('/Users/senzari/Machine_Learning/stats/src')\n",
    "    \n",
    "    for i in models:\n",
    "        \n",
    "        model_round = 'models/' + str(round_num) + '/' + str(i) + '_round_' + str(round_num) + '.pk1'\n",
    "        \n",
    "        if i == 'svc':\n",
    "            svc = form_model.build_model(X, y, i)\n",
    "            joblib.dump(svc, model_round)\n",
    "        elif i == 'gmm':\n",
    "            gmm = form_model.build_model(X, y, i)\n",
    "            joblib.dump(gmm, model_round)\n",
    "        elif i == 'kmeans':\n",
    "            kmeans = form_model.build_model(X, y, i)\n",
    "            joblib.dump(kmeans, model_round)\n",
    "        elif i == 'gnb':\n",
    "            gnb = form_model.build_model(X, y, i)\n",
    "            joblib.dump(gnb, model_round)\n",
    "        \n",
    "    return svc, gmm, kmeans, gnb\n",
    "        \n",
    "        \n",
    "def load_models(round_num):\n",
    "    \n",
    "    for i in models:\n",
    "        model_round = 'models/' + str(round_num) + '/' + str(i) + '_round_' + str(round_num) + '.pk1'\n",
    "        if i == 'svc':\n",
    "             svc= joblib.load(model_round)\n",
    "        elif i == 'gmm':\n",
    "            gmm = joblib.load(model_round)\n",
    "        elif i == 'kmeans':\n",
    "            kmeans = joblib.load(model_round)\n",
    "        elif i == 'gnb':\n",
    "            gnb = joblib.load(model_round)\n",
    "        \n",
    "        print(\"Success :: Loaded - \" + str(i))\n",
    "        \n",
    "    return svc, gmm, kmeans, gnb\n",
    "\n",
    "\n",
    "# svc, gmm, kmeans, gnb = train_models(round_number, X, y)\n",
    "# svc, gmm, kmeans, gnb = load_models(round_number)"
   ]
  },
  {
   "cell_type": "markdown",
   "metadata": {},
   "source": [
    "Find all matches"
   ]
  },
  {
   "cell_type": "code",
   "execution_count": null,
   "metadata": {
    "collapsed": false
   },
   "outputs": [],
   "source": [
    "upcoming_matches, match_details = predict_matches.get_upcoming_matches()\n",
    "print(upcoming_matches)"
   ]
  },
  {
   "cell_type": "code",
   "execution_count": null,
   "metadata": {
    "collapsed": false
   },
   "outputs": [],
   "source": [
    "for i in models:\n",
    "    if i == 'svc':\n",
    "        svc_preds, upcoming_data = predict_matches.predictions(upcoming_matches, match_details, svc)\n",
    "        print(svc_preds)\n",
    "    elif i == 'gmm':\n",
    "        gmm_preds, upcoming_data = predict_matches.predictions(upcoming_matches, match_details, gmm)\n",
    "        print(gmm_preds)\n",
    "    elif i == 'kmeans':\n",
    "        kmeans_preds, upcoming_data = predict_matches.predictions(upcoming_matches, match_details, kmeans)\n",
    "        print(kmeans_preds)\n",
    "    elif i == 'gnb':\n",
    "        gnb_preds, upcoming_data = predict_matches.predictions(upcoming_matches, match_details, gnb)\n",
    "        print(gnb_preds)"
   ]
  },
  {
   "cell_type": "markdown",
   "metadata": {},
   "source": [
    "Adds list of predictions to the upcoming matches and puts them in a CSV"
   ]
  },
  {
   "cell_type": "code",
   "execution_count": null,
   "metadata": {
    "collapsed": false
   },
   "outputs": [],
   "source": [
    "columns = ['team_name', 'opp_name', 'scheduled']\n",
    "# Remove all columns except the ones above\n",
    "upcoming_matches = upcoming_data[columns]\n",
    "# Add predictions to the end of that DF\n",
    "results = pd.DataFrame({'SVC': svc_preds, 'GMM': gmm_preds, 'K-Means': kmeans_preds, 'GNB': gnb_preds})\n",
    "upcoming_matches = upcoming_matches.join(results)\n",
    "reordered_matches = pd.DataFrame([])\n",
    "\n",
    "for rows in upcoming_matches.iterrows():\n",
    "    for i in upcoming_matches['team_name']:\n",
    "        if rows[1]['opp_name'] == i:\n",
    "            reordered_matches = reordered_matches.append(rows[1])\n",
    "            reordered_matches = reordered_matches.append(upcoming_matches[upcoming_matches['team_name'].isin([i])])\n",
    "\n",
    "reordered_matches = reordered_matches.drop_duplicates() \n",
    "columns = ['scheduled', 'team_name', 'opp_name', 'SVC', 'K-Means', 'GMM', 'GNB']\n",
    "reordered_matches = reordered_matches[columns]\n",
    "# upcoming_matches = upcoming_matches[(upcoming_matches['scheduled'] < '2016-08-26')]\n",
    "reordered_matches.to_csv('predictions_' + str(round_number) + '.csv')"
   ]
  },
  {
   "cell_type": "markdown",
   "metadata": {},
   "source": [
    "Tune Models\n",
    "Doesn't really do anything now, need to ask some questions to get better.  Maybe removing some features will help."
   ]
  },
  {
   "cell_type": "code",
   "execution_count": null,
   "metadata": {
    "collapsed": false
   },
   "outputs": [],
   "source": [
    "for i in models:\n",
    "    form_model.build_tuned_model(X, y, i)"
   ]
  },
  {
   "cell_type": "markdown",
   "metadata": {},
   "source": [
    "Trying to remove some useless features"
   ]
  },
  {
   "cell_type": "code",
   "execution_count": null,
   "metadata": {
    "collapsed": false
   },
   "outputs": [],
   "source": [
    "print(training_data.shape)\n",
    "reduced_data = form_data.variance_features(training_data)\n",
    "print(reduced_data.shape)"
   ]
  },
  {
   "cell_type": "code",
   "execution_count": null,
   "metadata": {
    "collapsed": false
   },
   "outputs": [],
   "source": [
    "svc = SVC(kernel=\"linear\")\n",
    "rfecv = RFECV(estimator=svc, step=1, cv=StratifiedKFold(y, 2),\n",
    "              scoring='accuracy')\n",
    "rfecv.fit(X, y)\n",
    "\n",
    "# Plot number of features VS. cross-validation scores\n",
    "plt.figure()\n",
    "plt.xlabel(\"Number of features selected\")\n",
    "plt.ylabel(\"Cross validation score (nb of correct classifications)\")\n",
    "plt.plot(range(1, len(rfecv.grid_scores_) + 1), rfecv.grid_scores_)\n",
    "plt.show()\n",
    "\n",
    "# Need to normalize the data\n",
    "\"\"\"norm_data = X.copy(deep=True)\n",
    "norm_data = norm_data.apply(lambda x: (x - x.min()) / (x.max() - x.min()))\n",
    "X_new = SelectKBest(chi2, k=50).fit_transform(norm_data, y)\n",
    "print(X.shape)\"\"\""
   ]
  },
  {
   "cell_type": "code",
   "execution_count": null,
   "metadata": {
    "collapsed": false
   },
   "outputs": [],
   "source": [
    "from sklearn.svm import SVC\n",
    "from sklearn.datasets import load_digits\n",
    "from sklearn.feature_selection import RFE\n",
    "\n",
    "# Create the RFE object and rank each pixel\n",
    "svc = SVC(kernel=\"linear\", C=1)\n",
    "rfe = RFE(estimator=svc, n_features_to_select=1, step=1)\n",
    "rfe.fit(X, y)\n",
    "print(rfe.ranking_)\n"
   ]
  },
  {
   "cell_type": "code",
   "execution_count": null,
   "metadata": {
    "collapsed": false
   },
   "outputs": [],
   "source": [
    "ranked_features = pd.DataFrame(index=range(448))\n",
    "for a in range(len(rfe.ranking_)):\n",
    "    for i in range(len(rfe.ranking_)):\n",
    "        if rfe.ranking_[i] == a+1:\n",
    "            ranked_features = ranked_features.join(X.ix[:,i])\n",
    "            \n",
    "display(ranked_features.describe())"
   ]
  },
  {
   "cell_type": "code",
   "execution_count": null,
   "metadata": {
    "collapsed": false
   },
   "outputs": [],
   "source": []
  },
  {
   "cell_type": "markdown",
   "metadata": {},
   "source": [
    "Let's try to reduce the number of features to at least 25 although optimal seems likely around ~8 features"
   ]
  },
  {
   "cell_type": "code",
   "execution_count": null,
   "metadata": {
    "collapsed": false
   },
   "outputs": [],
   "source": [
    "for x in xrange(5, 25):\n",
    "    print('X :: {}'.format(x))\n",
    "    svc, gmm, kmeans, gnb = train_models(round_number, ranked_features.iloc[:, 1:x], y)\n",
    "    print(' ============================ ')\n",
    "    "
   ]
  },
  {
   "cell_type": "markdown",
   "metadata": {},
   "source": [
    "try PCA on original training data "
   ]
  },
  {
   "cell_type": "code",
   "execution_count": null,
   "metadata": {
    "collapsed": false
   },
   "outputs": [],
   "source": [
    "pca = PCA(n_components=5)\n",
    "pca.fit(X)\n",
    "# Generate PCA results plot\n",
    "pca_results = rs.pca_results(X, pca)"
   ]
  },
  {
   "cell_type": "code",
   "execution_count": null,
   "metadata": {
    "collapsed": false
   },
   "outputs": [],
   "source": [
    "# TODO: Apply a PCA transformation the good data\n",
    "reduced_data = pca.transform(X)\n",
    "# display(pd.DataFrame(np.round(reduced_data, 4), columns = ['D1', 'D2', 'D3', 'D4', 'D5']))\n",
    "svc, gmm, kmeans, gnb = train_models(round_number, reduced_data, y)"
   ]
  },
  {
   "cell_type": "code",
   "execution_count": null,
   "metadata": {
    "collapsed": true
   },
   "outputs": [],
   "source": [
    "Try PCA on ranked features "
   ]
  },
  {
   "cell_type": "code",
   "execution_count": null,
   "metadata": {
    "collapsed": false
   },
   "outputs": [],
   "source": [
    "svc, gmm, kmeans, gnb = train_models(round_number, reduced_data, y)"
   ]
  },
  {
   "cell_type": "code",
   "execution_count": null,
   "metadata": {
    "collapsed": false
   },
   "outputs": [],
   "source": [
    "pca = PCA(n_components=5)\n",
    "pca.fit(ranked_features.iloc[:, 1:23]) # 23 was just the highest value when testing\n",
    "# Generate PCA results plot\n",
    "pca_results = rs.pca_results(ranked_features.iloc[:, 1:23], pca)"
   ]
  },
  {
   "cell_type": "code",
   "execution_count": null,
   "metadata": {
    "collapsed": false
   },
   "outputs": [],
   "source": [
    "# TODO: Apply a PCA transformation the good data\n",
    "reduced_data = pca.transform(ranked_features.iloc[:, 1:23])\n",
    "# display(pd.DataFrame(np.round(reduced_data, 4), columns = ['D1', 'D2', 'D3', 'D4', 'D5']))\n",
    "svc, gmm, kmeans, gnb = train_models(round_number, reduced_data, y)"
   ]
  },
  {
   "cell_type": "markdown",
   "metadata": {},
   "source": [
    "Let's try removing ties similar to the other project"
   ]
  },
  {
   "cell_type": "code",
   "execution_count": 4,
   "metadata": {
    "collapsed": false
   },
   "outputs": [
    {
     "name": "stdout",
     "output_type": "stream",
     "text": [
      "(298, 77)\n"
     ]
    }
   ],
   "source": [
    "target_col = 'points'\n",
    "ignore_cols = ['match_id', 'team_id', 'team_name', 'opp_id', 'opp_name', 'scheduled']\n",
    "\n",
    "filtered_data = training_data[training_data.points != 1]\n",
    "fd = model_libs._clone_and_drop(filtered_data, ignore_cols)\n",
    "(f_y, f_X) = model_libs._extract_target(fd, target_col)\n",
    "print(f_X.shape)"
   ]
  },
  {
   "cell_type": "code",
   "execution_count": 5,
   "metadata": {
    "collapsed": false
   },
   "outputs": [
    {
     "name": "stdout",
     "output_type": "stream",
     "text": [
      "Training SVC Modeling\n",
      "F1 score for training set: 0.858333333333\n",
      "F1 score for test set: 0.566666666667\n",
      "Finished SVC Modeling\n",
      "Training GMM Modeling\n",
      "F1 score for training set: 0.163265306122\n",
      "F1 score for test set: 0.190476190476\n",
      "('Scores :', [0.097067449979951009])\n",
      "Finished GMM Modeling\n",
      "Training K-Means Modeling\n",
      "F1 score for training set: 0.232876712329\n",
      "F1 score for test set: 0.241379310345\n",
      "Finished SVC Modeling\n",
      "Finished K-Means Modeling\n",
      "Training Gaussian NB Modeling\n",
      "F1 score for training set: 0.769874476987\n",
      "F1 score for test set: 0.714285714286\n",
      "Finished Gaussian NB Modeling\n"
     ]
    },
    {
     "name": "stderr",
     "output_type": "stream",
     "text": [
      "//anaconda/lib/python2.7/site-packages/sklearn/metrics/classification.py:756: DeprecationWarning: The default `weighted` averaging is deprecated, and from version 0.18, use of precision, recall or F-score with multiclass or multilabel data or pos_label=None will result in an exception. Please set an explicit value for `average`, one of (None, 'micro', 'macro', 'weighted', 'samples'). In cross validation use, for instance, scoring=\"f1_weighted\" instead of scoring=\"f1\".\n",
      "  sample_weight=sample_weight)\n",
      "//anaconda/lib/python2.7/site-packages/sklearn/metrics/classification.py:1074: UndefinedMetricWarning: F-score is ill-defined and being set to 0.0 in labels with no predicted samples.\n",
      "  'precision', 'predicted', average, warn_for)\n",
      "//anaconda/lib/python2.7/site-packages/sklearn/metrics/classification.py:1076: UndefinedMetricWarning: F-score is ill-defined and being set to 0.0 in labels with no true samples.\n",
      "  'recall', 'true', average, warn_for)\n",
      "//anaconda/lib/python2.7/site-packages/sklearn/metrics/classification.py:756: DeprecationWarning: The default `weighted` averaging is deprecated, and from version 0.18, use of precision, recall or F-score with multiclass or multilabel data or pos_label=None will result in an exception. Please set an explicit value for `average`, one of (None, 'micro', 'macro', 'weighted', 'samples'). In cross validation use, for instance, scoring=\"f1_weighted\" instead of scoring=\"f1\".\n",
      "  sample_weight=sample_weight)\n",
      "//anaconda/lib/python2.7/site-packages/sklearn/metrics/classification.py:756: DeprecationWarning: The default `weighted` averaging is deprecated, and from version 0.18, use of precision, recall or F-score with multiclass or multilabel data or pos_label=None will result in an exception. Please set an explicit value for `average`, one of (None, 'micro', 'macro', 'weighted', 'samples'). In cross validation use, for instance, scoring=\"f1_weighted\" instead of scoring=\"f1\".\n",
      "  sample_weight=sample_weight)\n",
      "//anaconda/lib/python2.7/site-packages/sklearn/metrics/classification.py:756: DeprecationWarning: The default `weighted` averaging is deprecated, and from version 0.18, use of precision, recall or F-score with multiclass or multilabel data or pos_label=None will result in an exception. Please set an explicit value for `average`, one of (None, 'micro', 'macro', 'weighted', 'samples'). In cross validation use, for instance, scoring=\"f1_weighted\" instead of scoring=\"f1\".\n",
      "  sample_weight=sample_weight)\n"
     ]
    }
   ],
   "source": [
    "svc, gmm, kmeans, gnb = train_models(round_number, f_X, f_y)"
   ]
  },
  {
   "cell_type": "code",
   "execution_count": null,
   "metadata": {
    "collapsed": true
   },
   "outputs": [],
   "source": []
  }
 ],
 "metadata": {
  "kernelspec": {
   "display_name": "Python 2",
   "language": "python",
   "name": "python2"
  },
  "language_info": {
   "codemirror_mode": {
    "name": "ipython",
    "version": 2
   },
   "file_extension": ".py",
   "mimetype": "text/x-python",
   "name": "python",
   "nbconvert_exporter": "python",
   "pygments_lexer": "ipython2",
   "version": "2.7.11"
  }
 },
 "nbformat": 4,
 "nbformat_minor": 0
}
