{
 "cells": [
  {
   "cell_type": "markdown",
   "metadata": {},
   "source": [
    "Importing Libraries"
   ]
  },
  {
   "cell_type": "code",
   "execution_count": 1,
   "metadata": {
    "collapsed": false
   },
   "outputs": [
    {
     "name": "stdout",
     "output_type": "stream",
     "text": [
      "INITIALIZED...\n"
     ]
    }
   ],
   "source": [
    "import sys\n",
    "import os\n",
    "import numpy as np\n",
    "import renders as rs\n",
    "import pandas as pd \n",
    "import matplotlib.pyplot as plt\n",
    "from sklearn.decomposition import PCA\n",
    "from IPython.display import display # Allows the use of display() for DataFrames\n",
    "from sklearn.externals import joblib\n",
    "from sklearn.feature_selection import SelectKBest\n",
    "from sklearn.feature_selection import chi2\n",
    "from sklearn.feature_selection import RFECV\n",
    "from sklearn.cross_validation import StratifiedKFold\n",
    "from sklearn.svm import SVC\n",
    "# Show matplotlib plots inline (nicely formatted in the notebook)\n",
    "%matplotlib inline\n",
    "sys.path.append('/Users/senzari/Machine_Learning/stats/src/stats/match_stats.py')\n",
    "sys.path.append('/Users/senzari/Machine_Learning/stats/src/stats/form_model.py')\n",
    "sys.path.append('/anaconda/envs/stats/lib/python3.5/site-packages')\n",
    "sys.path.append('/Users/senzari/Machine_Learning/stats/src/stats/model_libs.py')\n",
    "sys.path.append('/Users/senzari/Machine_Learning/stats/src/stats/form_data.py')\n",
    "sys.path.append('/Users/senzari/Machine_Learning/stats')\n",
    "sys.path.append('/Users/senzari/Machine_Learning/stats/src/stats')\n",
    "# print(sys.path)\n",
    "os.chdir('/Users/senzari/Machine_Learning/stats/src')\n",
    "#print(os.getcwd())\n",
    "\n",
    "# Variables\n",
    "round_number = 26\n",
    "target_col = 'points'\n",
    "ignore_cols = ['match_id', 'team_id', 'team_name', 'opp_id', 'opp_name', 'scheduled']\n",
    "testing = False\n",
    "\n",
    "from stats import form_data, match_stats, model_libs, form_model, predict_matches"
   ]
  },
  {
   "cell_type": "markdown",
   "metadata": {},
   "source": [
    "Initially use features just in database, ran PCA and tried to enhance the features that had the most influence...\n",
    "\n",
    "Data essentially has 2 variances.  Home vs Away stats and the Extended Features of Current Team, Opponent, Current Teams Previous Opponents, and Opponents Opponent"
   ]
  },
  {
   "cell_type": "code",
   "execution_count": 2,
   "metadata": {
    "collapsed": false
   },
   "outputs": [
    {
     "name": "stdout",
     "output_type": "stream",
     "text": [
      "Data Loaded...\n"
     ]
    }
   ],
   "source": [
    "data_csv = 'round' + str(round_number) + '.csv'\n",
    "\n",
    "if testing:\n",
    "    raw_data = form_data.run_data()\n",
    "    raw_data.to_csv(data_csv)\n",
    "    print(\"Raw Data Saved to CSV\")\n",
    "else:\n",
    "    #Reading in a CSV adds the first index column\n",
    "    raw_data = pd.read_csv(data_csv)\n",
    "    raw_data = raw_data.drop(raw_data.columns[[0]], axis=1)\n",
    "    \n",
    "td = model_libs._clone_and_drop(raw_data, ignore_cols)\n",
    "(y, X) = model_libs._extract_target(td, target_col)\n",
    "\n",
    "pd.set_option(\"display.max_columns\", 85)\n",
    "print('Data Loaded...')"
   ]
  },
  {
   "cell_type": "code",
   "execution_count": null,
   "metadata": {
    "collapsed": false
   },
   "outputs": [],
   "source": [
    "print(raw_data.shape)\n",
    "#display(raw_data.head())"
   ]
  },
  {
   "cell_type": "code",
   "execution_count": 3,
   "metadata": {
    "collapsed": false
   },
   "outputs": [
    {
     "name": "stdout",
     "output_type": "stream",
     "text": [
      "Success :: Loaded - svc\n",
      "Success :: Loaded - gmm\n",
      "Success :: Loaded - knn\n",
      "Success :: Loaded - gnb\n"
     ]
    }
   ],
   "source": [
    "models = ['svc', 'gmm', 'knn', 'gnb']\n",
    "\n",
    "\"\"\"No Cross-Validation and No Tuning\"\"\"\n",
    "def train_models(round_num, X, y):\n",
    "    \n",
    "    if os.path.isdir(\"/models/\" + str(round_num)):\n",
    "        print('Making New Directory for the Round')\n",
    "        os.chdir('/Users/senzari/Machine_Learning/stats/src/models')\n",
    "        os.makedirs(str(round_num))\n",
    "        os.chdir('/Users/senzari/Machine_Learning/stats/src')\n",
    "    \n",
    "    for i in models:\n",
    "        \n",
    "        model_round = 'models/' + str(round_num) + '/' + str(i) + '_round_' + str(round_num) + '.pk1'\n",
    "        \n",
    "        if i == 'svc':\n",
    "            svc = form_model.build_model(X, y, i)\n",
    "            joblib.dump(svc, model_round)\n",
    "        elif i == 'gmm':\n",
    "            gmm = form_model.build_model(X, y, i)\n",
    "            joblib.dump(gmm, model_round)\n",
    "        elif i == 'knn':\n",
    "            kmeans = form_model.build_model(X, y, i)\n",
    "            joblib.dump(kmeans, model_round)\n",
    "        elif i == 'gnb':\n",
    "            gnb = form_model.build_model(X, y, i)\n",
    "            joblib.dump(gnb, model_round)\n",
    "        \n",
    "    return svc, gmm, kmeans, gnb\n",
    "        \n",
    "        \n",
    "def load_models(round_num):\n",
    "    \n",
    "    for i in models:\n",
    "        model_round = 'models/' + str(round_num) + '/' + str(i) + '_round_' + str(round_num) + '.pk1'\n",
    "        if i == 'svc':\n",
    "             svc= joblib.load(model_round)\n",
    "        elif i == 'gmm':\n",
    "            gmm = joblib.load(model_round)\n",
    "        elif i == 'knn':\n",
    "            kmeans = joblib.load(model_round)\n",
    "        elif i == 'gnb':\n",
    "            gnb = joblib.load(model_round)\n",
    "        \n",
    "        print(\"Success :: Loaded - \" + str(i))\n",
    "        \n",
    "    return svc, gmm, kmeans, gnb\n",
    "\n",
    "\n",
    "# svc, gmm, knn, gnb = train_models(round_number, X, y)\n",
    "svc, gmm, knn, gnb = load_models(round_number)"
   ]
  },
  {
   "cell_type": "markdown",
   "metadata": {},
   "source": [
    "Find all matches"
   ]
  },
  {
   "cell_type": "code",
   "execution_count": null,
   "metadata": {
    "collapsed": false
   },
   "outputs": [],
   "source": [
    "upcoming_matches, match_details = predict_matches.get_upcoming_matches()\n",
    "print(upcoming_matches)"
   ]
  },
  {
   "cell_type": "code",
   "execution_count": null,
   "metadata": {
    "collapsed": false,
    "scrolled": true
   },
   "outputs": [],
   "source": [
    "for i in models:\n",
    "    if i == 'svc':\n",
    "        svc_preds, upcoming_data = predict_matches.predictions(upcoming_matches, match_details, svc)\n",
    "        print(svc_preds)\n",
    "    elif i == 'gmm':\n",
    "        gmm_preds, upcoming_data = predict_matches.predictions(upcoming_matches, match_details, gmm)\n",
    "        print(gmm_preds)\n",
    "    elif i == 'knn':\n",
    "        knn_preds, upcoming_data = predict_matches.predictions(upcoming_matches, match_details, knn)\n",
    "        print(knn_preds)\n",
    "    elif i == 'gnb':\n",
    "        gnb_preds, upcoming_data = predict_matches.predictions(upcoming_matches, match_details, gnb)\n",
    "        print(gnb_preds)"
   ]
  },
  {
   "cell_type": "markdown",
   "metadata": {},
   "source": [
    "Adds list of predictions to the upcoming matches and puts them in a CSV"
   ]
  },
  {
   "cell_type": "code",
   "execution_count": null,
   "metadata": {
    "collapsed": false
   },
   "outputs": [],
   "source": [
    "columns = ['team_name', 'opp_name', 'scheduled']\n",
    "# Remove all columns except the ones above\n",
    "upcoming_matches = upcoming_data[columns]\n",
    "# Add predictions to the end of that DF\n",
    "results = pd.DataFrame({'SVC': svc_preds, 'GMM': gmm_preds, 'KNN': knn_preds, 'GNB': gnb_preds})\n",
    "upcoming_matches = upcoming_matches.join(results)\n",
    "reordered_matches = pd.DataFrame([])\n",
    "\n",
    "for rows in upcoming_matches.iterrows():\n",
    "    for i in upcoming_matches['team_name']:\n",
    "        if rows[1]['opp_name'] == i:\n",
    "            reordered_matches = reordered_matches.append(rows[1])\n",
    "            reordered_matches = reordered_matches.append(upcoming_matches[upcoming_matches['team_name'].isin([i])])\n",
    "\n",
    "reordered_matches = reordered_matches.drop_duplicates() \n",
    "columns = ['scheduled', 'team_name', 'opp_name', 'SVC', 'KNN', 'GMM', 'GNB']\n",
    "reordered_matches = reordered_matches[columns]\n",
    "# upcoming_matches = upcoming_matches[(upcoming_matches['scheduled'] < '2016-08-26')]\n",
    "reordered_matches.to_csv('predictions_' + str(round_number) + '.csv')\n",
    "print('Prediction CSV saved')"
   ]
  },
  {
   "cell_type": "markdown",
   "metadata": {},
   "source": [
    "Tune Models\n",
    "Doesn't really do anything now, need to ask some questions to get better.  Maybe removing some features will help."
   ]
  },
  {
   "cell_type": "code",
   "execution_count": 4,
   "metadata": {
    "collapsed": false
   },
   "outputs": [
    {
     "name": "stdout",
     "output_type": "stream",
     "text": [
      "Training and Tuning SVC Model\n",
      "[ 0.3974359   0.37662338  0.31168831  0.26315789  0.40789474]\n",
      "Accuracy: 0.35 (+/- 0.11)\n",
      "Finished SVC Modeling\n",
      "Training and Tuning GMM Model\n",
      "W/ Covariance Type :: spherical\n",
      "Silhouette Score :: 0.13769079109 for Training\n",
      "Silhouette Score :: 0.17811459229 for Testing\n",
      "Silhouette Score :: 0.153245113517 for Training\n",
      "Silhouette Score :: 0.140650948589 for Testing\n",
      "Silhouette Score :: 0.102782551087 for Training\n",
      "Silhouette Score :: 0.0583229871375 for Testing\n",
      "W/ Covariance Type :: tied\n",
      "Silhouette Score :: 0.127783527533 for Training\n",
      "Silhouette Score :: 0.144357032003 for Testing\n",
      "Silhouette Score :: 0.132956118675 for Training\n",
      "Silhouette Score :: 0.0710283015087 for Testing\n",
      "Silhouette Score :: 0.123684749395 for Training\n",
      "Silhouette Score :: 0.129928361773 for Testing\n",
      "W/ Covariance Type :: diag\n",
      "Silhouette Score :: 0.168156840992 for Training\n",
      "Silhouette Score :: 0.123145490375 for Testing\n",
      "Silhouette Score :: 0.0537792404353 for Training\n",
      "Silhouette Score :: 0.020435346035 for Testing\n",
      "Silhouette Score :: 0.0312619302359 for Training\n",
      "Silhouette Score :: -0.0500149399782 for Testing\n",
      "W/ Covariance Type :: full\n",
      "Silhouette Score :: 0.125570228338 for Training\n",
      "Silhouette Score :: 0.0432129673128 for Testing\n",
      "Silhouette Score :: 0.133034209345 for Training\n",
      "Silhouette Score :: -0.00931562776515 for Testing\n",
      "Silhouette Score :: 0.133673202554 for Training\n",
      "Silhouette Score :: 0.0859819934218 for Testing\n",
      "W/ Covariance Type :: spherical\n",
      "Silhouette Score :: 0.149104827869 for Training\n",
      "Silhouette Score :: 0.131913049672 for Testing\n",
      "Silhouette Score :: 0.146934304884 for Training\n",
      "Silhouette Score :: 0.17145520533 for Testing\n",
      "Silhouette Score :: 0.105938442607 for Training\n",
      "Silhouette Score :: 0.117631206779 for Testing\n",
      "W/ Covariance Type :: tied\n",
      "Silhouette Score :: 0.140393937835 for Training\n",
      "Silhouette Score :: 0.122727432951 for Testing\n",
      "Silhouette Score :: 0.131378452125 for Training\n",
      "Silhouette Score :: 0.0948251389828 for Testing\n",
      "Silhouette Score :: 0.137412107083 for Training\n",
      "Silhouette Score :: 0.133662391808 for Testing\n",
      "W/ Covariance Type :: diag\n",
      "Silhouette Score :: 0.158004787309 for Training\n",
      "Silhouette Score :: 0.156261546462 for Testing\n",
      "Silhouette Score :: 0.0269789224635 for Training\n",
      "Silhouette Score :: 0.0318628884998 for Testing\n",
      "Silhouette Score :: 0.0250389146266 for Training\n",
      "Silhouette Score :: 0.0227346063441 for Testing\n",
      "W/ Covariance Type :: full\n",
      "Silhouette Score :: 0.114823227552 for Training\n",
      "Silhouette Score :: 0.183418115269 for Testing\n",
      "Silhouette Score :: 0.114121441199 for Training\n",
      "Silhouette Score :: 0.0201515271734 for Testing\n",
      "Silhouette Score :: 0.145932986144 for Training\n",
      "Silhouette Score :: -0.126998665438 for Testing\n",
      "W/ Covariance Type :: spherical\n",
      "Silhouette Score :: 0.142765396631 for Training\n",
      "Silhouette Score :: 0.143855329858 for Testing\n",
      "Silhouette Score :: 0.148636663926 for Training\n",
      "Silhouette Score :: 0.148515094145 for Testing\n",
      "Silhouette Score :: 0.0898849214472 for Training\n",
      "Silhouette Score :: 0.0821454485642 for Testing\n",
      "W/ Covariance Type :: tied\n",
      "Silhouette Score :: 0.13192125864 for Training\n",
      "Silhouette Score :: 0.0939842547627 for Testing\n",
      "Silhouette Score :: 0.139908163669 for Training\n",
      "Silhouette Score :: 0.111310340854 for Testing\n",
      "Silhouette Score :: 0.100692061178 for Training\n",
      "Silhouette Score :: 0.113236947419 for Testing\n",
      "W/ Covariance Type :: diag\n",
      "Silhouette Score :: 0.140631574711 for Training\n",
      "Silhouette Score :: 0.15112806068 for Testing\n",
      "Silhouette Score :: 0.0187373585686 for Training\n",
      "Silhouette Score :: -0.00547031240133 for Testing\n",
      "Silhouette Score :: 0.027146482213 for Training\n",
      "Silhouette Score :: -0.0236307150298 for Testing\n",
      "W/ Covariance Type :: full\n",
      "Silhouette Score :: 0.131311084012 for Training\n",
      "Silhouette Score :: 0.0825474815648 for Testing\n",
      "Silhouette Score :: 0.136886904054 for Training\n",
      "Silhouette Score :: 0.078095044462 for Testing\n",
      "Silhouette Score :: 0.130564771736 for Training\n",
      "Silhouette Score :: 0.0838837919316 for Testing\n",
      "W/ Covariance Type :: spherical\n",
      "Silhouette Score :: 0.143741993205 for Training\n",
      "Silhouette Score :: 0.123971188726 for Testing\n",
      "Silhouette Score :: 0.156058883598 for Training\n",
      "Silhouette Score :: 0.118861798777 for Testing\n",
      "Silhouette Score :: 0.0908561624541 for Training\n",
      "Silhouette Score :: 0.067060240272 for Testing\n",
      "W/ Covariance Type :: tied\n",
      "Silhouette Score :: 0.115471507478 for Training\n",
      "Silhouette Score :: 0.113732891363 for Testing\n",
      "Silhouette Score :: 0.142625605505 for Training\n",
      "Silhouette Score :: 0.0828905300245 for Testing\n",
      "Silhouette Score :: 0.12332689289 for Training\n",
      "Silhouette Score :: 0.0484681565757 for Testing\n",
      "W/ Covariance Type :: diag\n",
      "Silhouette Score :: 0.148797586397 for Training\n",
      "Silhouette Score :: 0.1547484075 for Testing\n",
      "Silhouette Score :: 0.0528811194351 for Training\n",
      "Silhouette Score :: 0.027074704342 for Testing\n",
      "Silhouette Score :: 0.0283582942338 for Training\n",
      "Silhouette Score :: 0.0348771506152 for Testing\n",
      "W/ Covariance Type :: full\n",
      "Silhouette Score :: 0.133402070314 for Training\n",
      "Silhouette Score :: 0.0479630967493 for Testing\n",
      "Silhouette Score :: 0.144439353394 for Training\n",
      "Silhouette Score :: 0.033297278657 for Testing\n",
      "Silhouette Score :: 0.137996958106 for Training\n",
      "Silhouette Score :: 0.0847612442849 for Testing\n",
      "W/ Covariance Type :: spherical\n",
      "Silhouette Score :: 0.146416892701 for Training\n",
      "Silhouette Score :: 0.148247724516 for Testing\n",
      "Silhouette Score :: 0.149783713555 for Training\n",
      "Silhouette Score :: 0.126881276836 for Testing\n",
      "Silhouette Score :: 0.0996438042579 for Training\n",
      "Silhouette Score :: 0.109652161103 for Testing\n",
      "W/ Covariance Type :: tied\n",
      "Silhouette Score :: 0.133544428651 for Training\n",
      "Silhouette Score :: 0.121656149315 for Testing\n",
      "Silhouette Score :: 0.130251201005 for Training\n",
      "Silhouette Score :: 0.102424573903 for Testing\n",
      "Silhouette Score :: 0.128345072089 for Training\n",
      "Silhouette Score :: 0.107589369903 for Testing\n",
      "W/ Covariance Type :: diag\n",
      "Silhouette Score :: 0.136340618869 for Training\n",
      "Silhouette Score :: 0.117700327312 for Testing\n",
      "Silhouette Score :: 0.148123510836 for Training\n",
      "Silhouette Score :: 0.138147417662 for Testing\n",
      "Silhouette Score :: 0.0661819615909 for Training\n",
      "Silhouette Score :: 0.0282472723818 for Testing\n",
      "W/ Covariance Type :: full\n",
      "Silhouette Score :: 0.129151329301 for Training\n",
      "Silhouette Score :: 0.0312005686454 for Testing\n",
      "Silhouette Score :: 0.138222375261 for Training\n",
      "Silhouette Score :: 0.0278562747346 for Testing\n",
      "Silhouette Score :: 0.13579836687 for Training\n",
      "Silhouette Score :: 0.0319334624629 for Testing\n",
      "Finished GMM Modeling\n",
      "Training K-Means Model\n",
      "KNN Score :: 0.671875 for Training\n",
      "KNN Score :: 0.25 for Testing\n",
      "KNN Score :: 0.684895833333 for Training\n",
      "KNN Score :: 0.270833333333 for Testing\n",
      "KNN Score :: 0.65625 for Training\n",
      "KNN Score :: 0.34375 for Testing\n",
      "KNN Score :: 0.700520833333 for Training\n",
      "KNN Score :: 0.28125 for Testing\n",
      "KNN Score :: 0.671875 for Training\n",
      "KNN Score :: 0.364583333333 for Testing\n",
      "Finished K-Means Modeling\n",
      "Training Gaussian NB Model\n",
      "[ 0.3974359   0.37662338  0.46753247  0.34210526  0.42105263]\n",
      "Accuracy: 0.40 (+/- 0.08)\n",
      "Finished Gaussian NB Modeling\n"
     ]
    }
   ],
   "source": [
    "for i in models:\n",
    "    form_model.build_tuned_model(X, y, i)"
   ]
  },
  {
   "cell_type": "markdown",
   "metadata": {},
   "source": [
    "Trying to remove some useless features"
   ]
  },
  {
   "cell_type": "code",
   "execution_count": null,
   "metadata": {
    "collapsed": false
   },
   "outputs": [],
   "source": [
    "print(raw_data.shape)\n",
    "reduced_data = form_data.variance_features(raw_data)\n",
    "print(reduced_data.shape)"
   ]
  },
  {
   "cell_type": "code",
   "execution_count": null,
   "metadata": {
    "collapsed": false
   },
   "outputs": [],
   "source": [
    "svc = SVC(kernel=\"linear\")\n",
    "rfecv = RFECV(estimator=svc, step=1, cv=StratifiedKFold(y, 2),\n",
    "              scoring='accuracy')\n",
    "rfecv.fit(X, y)\n",
    "\n",
    "# Plot number of features VS. cross-validation scores\n",
    "plt.figure()\n",
    "plt.xlabel(\"Number of features selected\")\n",
    "plt.ylabel(\"Cross validation score (nb of correct classifications)\")\n",
    "plt.plot(range(1, len(rfecv.grid_scores_) + 1), rfecv.grid_scores_)\n",
    "plt.show()\n",
    "\n",
    "# Need to normalize the data\n",
    "\"\"\"norm_data = X.copy(deep=True)\n",
    "norm_data = norm_data.apply(lambda x: (x - x.min()) / (x.max() - x.min()))\n",
    "X_new = SelectKBest(chi2, k=50).fit_transform(norm_data, y)\n",
    "print(X.shape)\"\"\""
   ]
  },
  {
   "cell_type": "code",
   "execution_count": null,
   "metadata": {
    "collapsed": false
   },
   "outputs": [],
   "source": [
    "from sklearn.svm import SVC\n",
    "from sklearn.datasets import load_digits\n",
    "from sklearn.feature_selection import RFE\n",
    "\n",
    "# Create the RFE object and rank each pixel\n",
    "svc = SVC(kernel=\"linear\", C=1)\n",
    "rfe = RFE(estimator=svc, n_features_to_select=1, step=1)\n",
    "rfe.fit(X, y)\n",
    "print(rfe.ranking_)\n"
   ]
  },
  {
   "cell_type": "code",
   "execution_count": null,
   "metadata": {
    "collapsed": false
   },
   "outputs": [],
   "source": [
    "ranked_features = pd.DataFrame(index=range(448))\n",
    "for a in range(len(rfe.ranking_)):\n",
    "    for i in range(len(rfe.ranking_)):\n",
    "        if rfe.ranking_[i] == a+1:\n",
    "            ranked_features = ranked_features.join(X.ix[:,i])\n",
    "            \n",
    "display(ranked_features.describe())"
   ]
  },
  {
   "cell_type": "code",
   "execution_count": null,
   "metadata": {
    "collapsed": false
   },
   "outputs": [],
   "source": []
  },
  {
   "cell_type": "markdown",
   "metadata": {},
   "source": [
    "Let's try to reduce the number of features to at least 25 although optimal seems likely around ~8 features"
   ]
  },
  {
   "cell_type": "code",
   "execution_count": null,
   "metadata": {
    "collapsed": false
   },
   "outputs": [],
   "source": [
    "for x in xrange(5, 25):\n",
    "    print('X :: {}'.format(x))\n",
    "    svc, gmm, knn, gnb = train_models(round_number, ranked_features.iloc[:, 1:x], y)\n",
    "    print(' ============================ ')\n",
    "    "
   ]
  },
  {
   "cell_type": "markdown",
   "metadata": {},
   "source": [
    "try PCA on original training data "
   ]
  },
  {
   "cell_type": "code",
   "execution_count": null,
   "metadata": {
    "collapsed": false
   },
   "outputs": [],
   "source": [
    "pca = PCA(n_components=5)\n",
    "pca.fit(X)\n",
    "# Generate PCA results plot\n",
    "pca_results = rs.pca_results(X, pca)"
   ]
  },
  {
   "cell_type": "code",
   "execution_count": null,
   "metadata": {
    "collapsed": false
   },
   "outputs": [],
   "source": [
    "# TODO: Apply a PCA transformation the good data\n",
    "reduced_data = pca.transform(X)\n",
    "# display(pd.DataFrame(np.round(reduced_data, 4), columns = ['D1', 'D2', 'D3', 'D4', 'D5']))\n",
    "svc, gmm, knn, gnb = train_models(round_number, reduced_data, y)"
   ]
  },
  {
   "cell_type": "code",
   "execution_count": null,
   "metadata": {
    "collapsed": true
   },
   "outputs": [],
   "source": [
    "Try PCA on ranked features "
   ]
  },
  {
   "cell_type": "code",
   "execution_count": null,
   "metadata": {
    "collapsed": false
   },
   "outputs": [],
   "source": [
    "svc, gmm, knn, gnb = train_models(round_number, reduced_data, y)"
   ]
  },
  {
   "cell_type": "code",
   "execution_count": null,
   "metadata": {
    "collapsed": false
   },
   "outputs": [],
   "source": [
    "pca = PCA(n_components=5)\n",
    "pca.fit(ranked_features.iloc[:, 1:23]) # 23 was just the highest value when testing\n",
    "# Generate PCA results plot\n",
    "pca_results = rs.pca_results(ranked_features.iloc[:, 1:23], pca)"
   ]
  },
  {
   "cell_type": "code",
   "execution_count": null,
   "metadata": {
    "collapsed": false
   },
   "outputs": [],
   "source": [
    "# TODO: Apply a PCA transformation the good data\n",
    "reduced_data = pca.transform(ranked_features.iloc[:, 1:23])\n",
    "# display(pd.DataFrame(np.round(reduced_data, 4), columns = ['D1', 'D2', 'D3', 'D4', 'D5']))\n",
    "svc, gmm, knn, gnb = train_models(round_number, reduced_data, y)"
   ]
  },
  {
   "cell_type": "markdown",
   "metadata": {},
   "source": [
    "Let's try removing ties similar to the other project"
   ]
  },
  {
   "cell_type": "code",
   "execution_count": null,
   "metadata": {
    "collapsed": false
   },
   "outputs": [],
   "source": [
    "target_col = 'points'\n",
    "ignore_cols = ['match_id', 'team_id', 'team_name', 'opp_id', 'opp_name', 'scheduled']\n",
    "\n",
    "filtered_data = raw_data[raw_data.points != 1]\n",
    "fd = model_libs._clone_and_drop(filtered_data, ignore_cols)\n",
    "(f_y, f_X) = model_libs._extract_target(fd, target_col)\n",
    "print(f_X.shape)"
   ]
  },
  {
   "cell_type": "code",
   "execution_count": null,
   "metadata": {
    "collapsed": false
   },
   "outputs": [],
   "source": [
    "svc, gmm, knn, gnb = train_models(round_number, f_X, f_y)"
   ]
  },
  {
   "cell_type": "code",
   "execution_count": null,
   "metadata": {
    "collapsed": false
   },
   "outputs": [],
   "source": [
    "# ha = home-away\n",
    "standard_cols = ['games_played', 'is_home', 'avg_points', 'goals_for', 'goals_against', 'avg_goals', 'margin', 'goal_diff',\n",
    "                'win_percentage', 'sos', 'opp_avg_points', 'opp_avg_goals', 'opp_margin', 'opp_goal_diff', 'opp_win_percentage',\n",
    "                'opp_opp_record', 'points']\n",
    "# 17 each\n",
    "home_cols = ['current_team_home_possession', 'current_team_home_attacks', 'current_team_home_dangerous_attacks', 'current_team_home_yellow_card',\n",
    "            'current_team_home_corner_kicks', 'current_team_home_shots_on_target', 'current_team_home_shots_total', 'current_team_home_ball_safe',\n",
    "            'current_team_home_played', 'current_opp_away_attacks', 'current_opp_away_dangerous_attacks', 'current_opp_away_yellow_card',\n",
    "            'current_opp_away_corner_kicks', 'current_opp_away_shots_on_target', 'current_opp_away_shots_total', 'current_opp_away_ball_safe',\n",
    "            'current_opp_away_played']\n",
    "away_cols = ['current_team_away_possession', 'current_team_away_attacks', 'current_team_away_dangerous_attacks', 'current_team_away_yellow_card', \n",
    "            'current_team_away_corner_kicks', 'current_team_away_shots_on_target', 'current_team_away_shots_total', 'current_team_away_ball_safe', \n",
    "            'current_team_away_played', 'current_opp_home_attacks', 'current_opp_home_dangerous_attacks', 'current_opp_home_yellow_card', 'current_opp_home_corner_kicks', \n",
    "             'current_opp_home_shots_on_target', 'current_opp_home_shots_total', 'current_opp_home_ball_safe', 'current_opp_home_played']\n",
    "\n",
    "def rename_column(label):\n",
    "    if label.count('_home_') > 0:\n",
    "        new_name = label.replace('_home_', '_')\n",
    "    elif label.count('_away_') > 0:\n",
    "        new_name = label.replace('_away_', '_')\n",
    "    return new_name\n",
    "\n",
    "# Creates new column list for merged columns\n",
    "merged_cols = []\n",
    "\n",
    "for cols in home_cols:\n",
    "    merged_cols.append(rename_column(cols))\n",
    "    \n",
    "# Creates a Home and Away Table with Standard and Home/Away Columns.  Will evenutally merge together\n",
    "ha_data = model_libs._clone_and_drop(raw_data, ignore_cols)\n",
    "home_data = ha_data.loc[ha_data.loc[:, 'is_home'] == 1, standard_cols + home_cols]\n",
    "away_data = ha_data.loc[ha_data.loc[:, 'is_home'] == 0, standard_cols + away_cols]\n",
    "\n",
    "#display(away_data.describe())\n",
    "#display(home_data.describe())\n",
    "\n",
    "# Appends the Home Table with the Away Table\n",
    "ha_data = home_data.append(away_data)\n",
    "\n",
    "def pick_column(home, away):\n",
    "    if np.isnan(home):\n",
    "        return away\n",
    "    elif np.isnan(away):\n",
    "        return home\n",
    "\n",
    "# Combine Home/Away Columns into one for Current Team and Opponent.  Cuts down on Features\n",
    "# Adds from whatever column that doesn't have Nan\n",
    "for c in range(len(merged_cols)):\n",
    "    ha_data[merged_cols[c]] = ha_data.apply(lambda row: pick_column(row[home_cols[c]], row[away_cols[c]]), axis=1 )\n",
    "\n",
    "ha_data = ha_data.drop(home_cols + away_cols, axis=1)\n",
    "    \n",
    "display(ha_data.describe())\n",
    "\n",
    "print(ha_data.shape)\n",
    "#(y, X) = model_libs._extract_target(home_away_data, target_col)"
   ]
  },
  {
   "cell_type": "code",
   "execution_count": null,
   "metadata": {
    "collapsed": false
   },
   "outputs": [],
   "source": [
    "(y, X) = model_libs._extract_target(ha_data, target_col)\n",
    "print(X.shape)"
   ]
  },
  {
   "cell_type": "code",
   "execution_count": null,
   "metadata": {
    "collapsed": false
   },
   "outputs": [],
   "source": [
    "svc, gmm, knn, gnb = train_models(round_number, X, y)"
   ]
  },
  {
   "cell_type": "markdown",
   "metadata": {},
   "source": [
    "Now testing table with standard and extended features"
   ]
  },
  {
   "cell_type": "code",
   "execution_count": null,
   "metadata": {
    "collapsed": false
   },
   "outputs": [],
   "source": [
    "# ef = extended features\n",
    "ef_data = model_libs._clone_and_drop(raw_data, ignore_cols)\n",
    "print(ef_data.shape)\n",
    "ef_data = ef_data.drop(home_cols + away_cols, axis=1)\n",
    "print(ef_data.shape)"
   ]
  },
  {
   "cell_type": "code",
   "execution_count": null,
   "metadata": {
    "collapsed": false
   },
   "outputs": [],
   "source": [
    "(y, X) = model_libs._extract_target(ef_data, target_col)\n",
    "svc, gmm, kmeans, gnb = train_models(round_number, X, y)"
   ]
  },
  {
   "cell_type": "code",
   "execution_count": null,
   "metadata": {
    "collapsed": true
   },
   "outputs": [],
   "source": []
  }
 ],
 "metadata": {
  "kernelspec": {
   "display_name": "Python 2",
   "language": "python",
   "name": "python2"
  },
  "language_info": {
   "codemirror_mode": {
    "name": "ipython",
    "version": 2
   },
   "file_extension": ".py",
   "mimetype": "text/x-python",
   "name": "python",
   "nbconvert_exporter": "python",
   "pygments_lexer": "ipython2",
   "version": "2.7.11"
  }
 },
 "nbformat": 4,
 "nbformat_minor": 0
}
