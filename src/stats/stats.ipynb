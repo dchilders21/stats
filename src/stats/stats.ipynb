{
 "cells": [
  {
   "cell_type": "markdown",
   "metadata": {},
   "source": [
    "Importing Libraries"
   ]
  },
  {
   "cell_type": "code",
   "execution_count": 45,
   "metadata": {
    "collapsed": false
   },
   "outputs": [],
   "source": [
    "import sys\n",
    "import os\n",
    "import numpy as np\n",
    "import renders as rs\n",
    "import pandas as pd \n",
    "import matplotlib.pyplot as plt\n",
    "from sklearn.decomposition import PCA\n",
    "from IPython.display import display # Allows the use of display() for DataFrames\n",
    "from sklearn.externals import joblib\n",
    "from sklearn.feature_selection import SelectKBest\n",
    "from sklearn.feature_selection import chi2\n",
    "from sklearn.feature_selection import RFECV\n",
    "from sklearn.cross_validation import StratifiedKFold\n",
    "from sklearn.svm import SVC\n",
    "# Show matplotlib plots inline (nicely formatted in the notebook)\n",
    "%matplotlib inline\n",
    "sys.path.append('/Users/senzari/Machine_Learning/stats/src/stats/match_stats.py')\n",
    "sys.path.append('/Users/senzari/Machine_Learning/stats/src/stats/form_model.py')\n",
    "sys.path.append('/anaconda/envs/stats/lib/python3.5/site-packages')\n",
    "sys.path.append('/Users/senzari/Machine_Learning/stats/src/stats/model_libs.py')\n",
    "sys.path.append('/Users/senzari/Machine_Learning/stats/src/stats/form_data.py')\n",
    "sys.path.append('/Users/senzari/Machine_Learning/stats')\n",
    "sys.path.append('/Users/senzari/Machine_Learning/stats/src/stats')\n",
    "# print(sys.path)\n",
    "os.chdir('/Users/senzari/Machine_Learning/stats/src')\n",
    "#print(os.getcwd())\n",
    "\n",
    "# Variables\n",
    "round_number = 26\n",
    "target_col = 'points'\n",
    "ignore_cols = ['match_id', 'team_id', 'team_name', 'opp_id', 'opp_name', 'scheduled']\n",
    "testing = False\n",
    "\n",
    "from stats import form_data, match_stats, model_libs, form_model, predict_matches"
   ]
  },
  {
   "cell_type": "markdown",
   "metadata": {},
   "source": [
    "Initially use features just in database, ran PCA and tried to enhance the features that had the most influence...\n",
    "\n",
    "Data essentially has 2 variances.  Home vs Away stats and the Extended Features of Current Team, Opponent, Current Teams Previous Opponents, and Opponents Opponent"
   ]
  },
  {
   "cell_type": "code",
   "execution_count": 38,
   "metadata": {
    "collapsed": false
   },
   "outputs": [
    {
     "name": "stdout",
     "output_type": "stream",
     "text": [
      "Data Loaded...\n"
     ]
    }
   ],
   "source": [
    "data_csv = 'round' + str(round_number) + '.csv'\n",
    "\n",
    "if testing:\n",
    "    raw_data = form_data.run_data()\n",
    "    raw_data.to_csv(data_csv)\n",
    "    print(\"Raw Data Saved to CSV\")\n",
    "else:\n",
    "    #Reading in a CSV adds the first index column\n",
    "    raw_data = pd.read_csv(data_csv)\n",
    "    raw_data = raw_data.drop(raw_data.columns[[0]], axis=1)\n",
    "\n",
    "pd.set_option(\"display.max_columns\", 85)\n",
    "print('Data Loaded...')"
   ]
  },
  {
   "cell_type": "code",
   "execution_count": 116,
   "metadata": {
    "collapsed": false
   },
   "outputs": [
    {
     "name": "stdout",
     "output_type": "stream",
     "text": [
      "(480, 82)\n"
     ]
    }
   ],
   "source": [
    "print(raw_data.shape)\n",
    "#display(raw_data.head())"
   ]
  },
  {
   "cell_type": "code",
   "execution_count": 117,
   "metadata": {
    "collapsed": false
   },
   "outputs": [],
   "source": [
    "models = ['svc', 'gmm', 'kmeans', 'gnb']\n",
    "\n",
    "def train_models(round_num, X, y):\n",
    "    \n",
    "    if os.path.isdir(\"/models/\" + str(round_num)):\n",
    "        print('Making New Directory for the Round')\n",
    "        os.chdir('/Users/senzari/Machine_Learning/stats/src/models')\n",
    "        os.makedirs(str(round_num))\n",
    "        os.chdir('/Users/senzari/Machine_Learning/stats/src')\n",
    "    \n",
    "    for i in models:\n",
    "        \n",
    "        model_round = 'models/' + str(round_num) + '/' + str(i) + '_round_' + str(round_num) + '.pk1'\n",
    "        \n",
    "        if i == 'svc':\n",
    "            svc = form_model.build_model(X, y, i)\n",
    "            joblib.dump(svc, model_round)\n",
    "        elif i == 'gmm':\n",
    "            gmm = form_model.build_model(X, y, i)\n",
    "            joblib.dump(gmm, model_round)\n",
    "        elif i == 'kmeans':\n",
    "            kmeans = form_model.build_model(X, y, i)\n",
    "            joblib.dump(kmeans, model_round)\n",
    "        elif i == 'gnb':\n",
    "            gnb = form_model.build_model(X, y, i)\n",
    "            joblib.dump(gnb, model_round)\n",
    "        \n",
    "    return svc, gmm, kmeans, gnb\n",
    "        \n",
    "        \n",
    "def load_models(round_num):\n",
    "    \n",
    "    for i in models:\n",
    "        model_round = 'models/' + str(round_num) + '/' + str(i) + '_round_' + str(round_num) + '.pk1'\n",
    "        if i == 'svc':\n",
    "             svc= joblib.load(model_round)\n",
    "        elif i == 'gmm':\n",
    "            gmm = joblib.load(model_round)\n",
    "        elif i == 'kmeans':\n",
    "            kmeans = joblib.load(model_round)\n",
    "        elif i == 'gnb':\n",
    "            gnb = joblib.load(model_round)\n",
    "        \n",
    "        print(\"Success :: Loaded - \" + str(i))\n",
    "        \n",
    "    return svc, gmm, kmeans, gnb\n",
    "\n",
    "\n",
    "# svc, gmm, kmeans, gnb = train_models(round_number, X, y)\n",
    "# svc, gmm, kmeans, gnb = load_models(round_number)"
   ]
  },
  {
   "cell_type": "markdown",
   "metadata": {},
   "source": [
    "Find all matches"
   ]
  },
  {
   "cell_type": "code",
   "execution_count": null,
   "metadata": {
    "collapsed": false
   },
   "outputs": [],
   "source": [
    "upcoming_matches, match_details = predict_matches.get_upcoming_matches()\n",
    "print(upcoming_matches)"
   ]
  },
  {
   "cell_type": "code",
   "execution_count": null,
   "metadata": {
    "collapsed": false
   },
   "outputs": [],
   "source": [
    "for i in models:\n",
    "    if i == 'svc':\n",
    "        svc_preds, upcoming_data = predict_matches.predictions(upcoming_matches, match_details, svc)\n",
    "        print(svc_preds)\n",
    "    elif i == 'gmm':\n",
    "        gmm_preds, upcoming_data = predict_matches.predictions(upcoming_matches, match_details, gmm)\n",
    "        print(gmm_preds)\n",
    "    elif i == 'kmeans':\n",
    "        kmeans_preds, upcoming_data = predict_matches.predictions(upcoming_matches, match_details, kmeans)\n",
    "        print(kmeans_preds)\n",
    "    elif i == 'gnb':\n",
    "        gnb_preds, upcoming_data = predict_matches.predictions(upcoming_matches, match_details, gnb)\n",
    "        print(gnb_preds)"
   ]
  },
  {
   "cell_type": "markdown",
   "metadata": {},
   "source": [
    "Adds list of predictions to the upcoming matches and puts them in a CSV"
   ]
  },
  {
   "cell_type": "code",
   "execution_count": null,
   "metadata": {
    "collapsed": false
   },
   "outputs": [],
   "source": [
    "columns = ['team_name', 'opp_name', 'scheduled']\n",
    "# Remove all columns except the ones above\n",
    "upcoming_matches = upcoming_data[columns]\n",
    "# Add predictions to the end of that DF\n",
    "results = pd.DataFrame({'SVC': svc_preds, 'GMM': gmm_preds, 'K-Means': kmeans_preds, 'GNB': gnb_preds})\n",
    "upcoming_matches = upcoming_matches.join(results)\n",
    "reordered_matches = pd.DataFrame([])\n",
    "\n",
    "for rows in upcoming_matches.iterrows():\n",
    "    for i in upcoming_matches['team_name']:\n",
    "        if rows[1]['opp_name'] == i:\n",
    "            reordered_matches = reordered_matches.append(rows[1])\n",
    "            reordered_matches = reordered_matches.append(upcoming_matches[upcoming_matches['team_name'].isin([i])])\n",
    "\n",
    "reordered_matches = reordered_matches.drop_duplicates() \n",
    "columns = ['scheduled', 'team_name', 'opp_name', 'SVC', 'K-Means', 'GMM', 'GNB']\n",
    "reordered_matches = reordered_matches[columns]\n",
    "# upcoming_matches = upcoming_matches[(upcoming_matches['scheduled'] < '2016-08-26')]\n",
    "reordered_matches.to_csv('predictions_' + str(round_number) + '.csv')"
   ]
  },
  {
   "cell_type": "markdown",
   "metadata": {},
   "source": [
    "Tune Models\n",
    "Doesn't really do anything now, need to ask some questions to get better.  Maybe removing some features will help."
   ]
  },
  {
   "cell_type": "code",
   "execution_count": null,
   "metadata": {
    "collapsed": false
   },
   "outputs": [],
   "source": [
    "for i in models:\n",
    "    form_model.build_tuned_model(X, y, i)"
   ]
  },
  {
   "cell_type": "markdown",
   "metadata": {},
   "source": [
    "Trying to remove some useless features"
   ]
  },
  {
   "cell_type": "code",
   "execution_count": null,
   "metadata": {
    "collapsed": false
   },
   "outputs": [],
   "source": [
    "print(raw_data.shape)\n",
    "reduced_data = form_data.variance_features(raw_data)\n",
    "print(reduced_data.shape)"
   ]
  },
  {
   "cell_type": "code",
   "execution_count": null,
   "metadata": {
    "collapsed": false
   },
   "outputs": [],
   "source": [
    "svc = SVC(kernel=\"linear\")\n",
    "rfecv = RFECV(estimator=svc, step=1, cv=StratifiedKFold(y, 2),\n",
    "              scoring='accuracy')\n",
    "rfecv.fit(X, y)\n",
    "\n",
    "# Plot number of features VS. cross-validation scores\n",
    "plt.figure()\n",
    "plt.xlabel(\"Number of features selected\")\n",
    "plt.ylabel(\"Cross validation score (nb of correct classifications)\")\n",
    "plt.plot(range(1, len(rfecv.grid_scores_) + 1), rfecv.grid_scores_)\n",
    "plt.show()\n",
    "\n",
    "# Need to normalize the data\n",
    "\"\"\"norm_data = X.copy(deep=True)\n",
    "norm_data = norm_data.apply(lambda x: (x - x.min()) / (x.max() - x.min()))\n",
    "X_new = SelectKBest(chi2, k=50).fit_transform(norm_data, y)\n",
    "print(X.shape)\"\"\""
   ]
  },
  {
   "cell_type": "code",
   "execution_count": null,
   "metadata": {
    "collapsed": false
   },
   "outputs": [],
   "source": [
    "from sklearn.svm import SVC\n",
    "from sklearn.datasets import load_digits\n",
    "from sklearn.feature_selection import RFE\n",
    "\n",
    "# Create the RFE object and rank each pixel\n",
    "svc = SVC(kernel=\"linear\", C=1)\n",
    "rfe = RFE(estimator=svc, n_features_to_select=1, step=1)\n",
    "rfe.fit(X, y)\n",
    "print(rfe.ranking_)\n"
   ]
  },
  {
   "cell_type": "code",
   "execution_count": null,
   "metadata": {
    "collapsed": false
   },
   "outputs": [],
   "source": [
    "ranked_features = pd.DataFrame(index=range(448))\n",
    "for a in range(len(rfe.ranking_)):\n",
    "    for i in range(len(rfe.ranking_)):\n",
    "        if rfe.ranking_[i] == a+1:\n",
    "            ranked_features = ranked_features.join(X.ix[:,i])\n",
    "            \n",
    "display(ranked_features.describe())"
   ]
  },
  {
   "cell_type": "code",
   "execution_count": null,
   "metadata": {
    "collapsed": false
   },
   "outputs": [],
   "source": []
  },
  {
   "cell_type": "markdown",
   "metadata": {},
   "source": [
    "Let's try to reduce the number of features to at least 25 although optimal seems likely around ~8 features"
   ]
  },
  {
   "cell_type": "code",
   "execution_count": null,
   "metadata": {
    "collapsed": false
   },
   "outputs": [],
   "source": [
    "for x in xrange(5, 25):\n",
    "    print('X :: {}'.format(x))\n",
    "    svc, gmm, kmeans, gnb = train_models(round_number, ranked_features.iloc[:, 1:x], y)\n",
    "    print(' ============================ ')\n",
    "    "
   ]
  },
  {
   "cell_type": "markdown",
   "metadata": {},
   "source": [
    "try PCA on original training data "
   ]
  },
  {
   "cell_type": "code",
   "execution_count": null,
   "metadata": {
    "collapsed": false
   },
   "outputs": [],
   "source": [
    "pca = PCA(n_components=5)\n",
    "pca.fit(X)\n",
    "# Generate PCA results plot\n",
    "pca_results = rs.pca_results(X, pca)"
   ]
  },
  {
   "cell_type": "code",
   "execution_count": null,
   "metadata": {
    "collapsed": false
   },
   "outputs": [],
   "source": [
    "# TODO: Apply a PCA transformation the good data\n",
    "reduced_data = pca.transform(X)\n",
    "# display(pd.DataFrame(np.round(reduced_data, 4), columns = ['D1', 'D2', 'D3', 'D4', 'D5']))\n",
    "svc, gmm, kmeans, gnb = train_models(round_number, reduced_data, y)"
   ]
  },
  {
   "cell_type": "code",
   "execution_count": null,
   "metadata": {
    "collapsed": true
   },
   "outputs": [],
   "source": [
    "Try PCA on ranked features "
   ]
  },
  {
   "cell_type": "code",
   "execution_count": null,
   "metadata": {
    "collapsed": false
   },
   "outputs": [],
   "source": [
    "svc, gmm, kmeans, gnb = train_models(round_number, reduced_data, y)"
   ]
  },
  {
   "cell_type": "code",
   "execution_count": null,
   "metadata": {
    "collapsed": false
   },
   "outputs": [],
   "source": [
    "pca = PCA(n_components=5)\n",
    "pca.fit(ranked_features.iloc[:, 1:23]) # 23 was just the highest value when testing\n",
    "# Generate PCA results plot\n",
    "pca_results = rs.pca_results(ranked_features.iloc[:, 1:23], pca)"
   ]
  },
  {
   "cell_type": "code",
   "execution_count": null,
   "metadata": {
    "collapsed": false
   },
   "outputs": [],
   "source": [
    "# TODO: Apply a PCA transformation the good data\n",
    "reduced_data = pca.transform(ranked_features.iloc[:, 1:23])\n",
    "# display(pd.DataFrame(np.round(reduced_data, 4), columns = ['D1', 'D2', 'D3', 'D4', 'D5']))\n",
    "svc, gmm, kmeans, gnb = train_models(round_number, reduced_data, y)"
   ]
  },
  {
   "cell_type": "markdown",
   "metadata": {},
   "source": [
    "Let's try removing ties similar to the other project"
   ]
  },
  {
   "cell_type": "code",
   "execution_count": null,
   "metadata": {
    "collapsed": false
   },
   "outputs": [],
   "source": [
    "target_col = 'points'\n",
    "ignore_cols = ['match_id', 'team_id', 'team_name', 'opp_id', 'opp_name', 'scheduled']\n",
    "\n",
    "filtered_data = raw_data[raw_data.points != 1]\n",
    "fd = model_libs._clone_and_drop(filtered_data, ignore_cols)\n",
    "(f_y, f_X) = model_libs._extract_target(fd, target_col)\n",
    "print(f_X.shape)"
   ]
  },
  {
   "cell_type": "code",
   "execution_count": null,
   "metadata": {
    "collapsed": false
   },
   "outputs": [],
   "source": [
    "svc, gmm, kmeans, gnb = train_models(round_number, f_X, f_y)"
   ]
  },
  {
   "cell_type": "code",
   "execution_count": 121,
   "metadata": {
    "collapsed": false
   },
   "outputs": [
    {
     "data": {
      "text/html": [
       "<div>\n",
       "<table border=\"1\" class=\"dataframe\">\n",
       "  <thead>\n",
       "    <tr style=\"text-align: right;\">\n",
       "      <th></th>\n",
       "      <th>avg_goals</th>\n",
       "      <th>avg_points</th>\n",
       "      <th>games_played</th>\n",
       "      <th>goal_diff</th>\n",
       "      <th>goals_against</th>\n",
       "      <th>goals_for</th>\n",
       "      <th>is_home</th>\n",
       "      <th>margin</th>\n",
       "      <th>opp_avg_goals</th>\n",
       "      <th>opp_avg_points</th>\n",
       "      <th>opp_goal_diff</th>\n",
       "      <th>opp_margin</th>\n",
       "      <th>opp_opp_record</th>\n",
       "      <th>opp_win_percentage</th>\n",
       "      <th>points</th>\n",
       "      <th>sos</th>\n",
       "      <th>win_percentage</th>\n",
       "      <th>current_team_possession</th>\n",
       "      <th>current_team_attacks</th>\n",
       "      <th>current_team_dangerous_attacks</th>\n",
       "      <th>current_team_yellow_card</th>\n",
       "      <th>current_team_corner_kicks</th>\n",
       "      <th>current_team_shots_on_target</th>\n",
       "      <th>current_team_shots_total</th>\n",
       "      <th>current_team_ball_safe</th>\n",
       "      <th>current_team_played</th>\n",
       "      <th>current_opp_attacks</th>\n",
       "      <th>current_opp_dangerous_attacks</th>\n",
       "      <th>current_opp_yellow_card</th>\n",
       "      <th>current_opp_corner_kicks</th>\n",
       "      <th>current_opp_shots_on_target</th>\n",
       "      <th>current_opp_shots_total</th>\n",
       "      <th>current_opp_ball_safe</th>\n",
       "      <th>current_opp_played</th>\n",
       "    </tr>\n",
       "  </thead>\n",
       "  <tbody>\n",
       "    <tr>\n",
       "      <th>count</th>\n",
       "      <td>480.000000</td>\n",
       "      <td>480.000000</td>\n",
       "      <td>480.000000</td>\n",
       "      <td>480.000000</td>\n",
       "      <td>480.000000</td>\n",
       "      <td>480.000000</td>\n",
       "      <td>480.000000</td>\n",
       "      <td>480.000000</td>\n",
       "      <td>480.000000</td>\n",
       "      <td>480.000000</td>\n",
       "      <td>480.000000</td>\n",
       "      <td>480.000000</td>\n",
       "      <td>480.000000</td>\n",
       "      <td>480.000000</td>\n",
       "      <td>480.000000</td>\n",
       "      <td>480.000000</td>\n",
       "      <td>480.000000</td>\n",
       "      <td>480.000000</td>\n",
       "      <td>480.000000</td>\n",
       "      <td>480.000000</td>\n",
       "      <td>480.000000</td>\n",
       "      <td>480.000000</td>\n",
       "      <td>480.000000</td>\n",
       "      <td>480.000000</td>\n",
       "      <td>480.000000</td>\n",
       "      <td>480.000000</td>\n",
       "      <td>480.000000</td>\n",
       "      <td>480.000000</td>\n",
       "      <td>480.000000</td>\n",
       "      <td>480.000000</td>\n",
       "      <td>480.000000</td>\n",
       "      <td>480.000000</td>\n",
       "      <td>480.000000</td>\n",
       "      <td>480.000000</td>\n",
       "    </tr>\n",
       "    <tr>\n",
       "      <th>mean</th>\n",
       "      <td>1.018750</td>\n",
       "      <td>0.977083</td>\n",
       "      <td>12.393750</td>\n",
       "      <td>-0.041667</td>\n",
       "      <td>1.364583</td>\n",
       "      <td>1.387500</td>\n",
       "      <td>0.500000</td>\n",
       "      <td>-0.427083</td>\n",
       "      <td>1.018750</td>\n",
       "      <td>0.977083</td>\n",
       "      <td>-0.041667</td>\n",
       "      <td>-0.427083</td>\n",
       "      <td>0.500201</td>\n",
       "      <td>0.499875</td>\n",
       "      <td>1.333333</td>\n",
       "      <td>1.166982</td>\n",
       "      <td>0.499875</td>\n",
       "      <td>50.004392</td>\n",
       "      <td>100.841481</td>\n",
       "      <td>50.969118</td>\n",
       "      <td>1.659965</td>\n",
       "      <td>4.988794</td>\n",
       "      <td>4.889909</td>\n",
       "      <td>9.345730</td>\n",
       "      <td>93.778691</td>\n",
       "      <td>5.995833</td>\n",
       "      <td>100.841481</td>\n",
       "      <td>50.969118</td>\n",
       "      <td>1.659965</td>\n",
       "      <td>4.988794</td>\n",
       "      <td>4.889909</td>\n",
       "      <td>9.345730</td>\n",
       "      <td>93.778691</td>\n",
       "      <td>5.995833</td>\n",
       "    </tr>\n",
       "    <tr>\n",
       "      <th>std</th>\n",
       "      <td>0.506392</td>\n",
       "      <td>0.557260</td>\n",
       "      <td>6.922262</td>\n",
       "      <td>4.373761</td>\n",
       "      <td>1.142460</td>\n",
       "      <td>1.150406</td>\n",
       "      <td>0.500522</td>\n",
       "      <td>0.692109</td>\n",
       "      <td>0.506392</td>\n",
       "      <td>0.557260</td>\n",
       "      <td>4.373761</td>\n",
       "      <td>0.692109</td>\n",
       "      <td>0.164743</td>\n",
       "      <td>0.164815</td>\n",
       "      <td>1.248520</td>\n",
       "      <td>0.304611</td>\n",
       "      <td>0.164815</td>\n",
       "      <td>3.825790</td>\n",
       "      <td>12.731148</td>\n",
       "      <td>8.455986</td>\n",
       "      <td>0.597197</td>\n",
       "      <td>1.656228</td>\n",
       "      <td>1.292097</td>\n",
       "      <td>2.071212</td>\n",
       "      <td>10.554401</td>\n",
       "      <td>3.545703</td>\n",
       "      <td>12.731148</td>\n",
       "      <td>8.455986</td>\n",
       "      <td>0.597197</td>\n",
       "      <td>1.656228</td>\n",
       "      <td>1.292097</td>\n",
       "      <td>2.071212</td>\n",
       "      <td>10.554401</td>\n",
       "      <td>3.545703</td>\n",
       "    </tr>\n",
       "    <tr>\n",
       "      <th>min</th>\n",
       "      <td>0.000000</td>\n",
       "      <td>0.000000</td>\n",
       "      <td>1.000000</td>\n",
       "      <td>-20.000000</td>\n",
       "      <td>0.000000</td>\n",
       "      <td>0.000000</td>\n",
       "      <td>0.000000</td>\n",
       "      <td>-3.000000</td>\n",
       "      <td>0.000000</td>\n",
       "      <td>0.000000</td>\n",
       "      <td>-20.000000</td>\n",
       "      <td>-3.000000</td>\n",
       "      <td>0.000000</td>\n",
       "      <td>0.000000</td>\n",
       "      <td>0.000000</td>\n",
       "      <td>0.185185</td>\n",
       "      <td>0.000000</td>\n",
       "      <td>34.000000</td>\n",
       "      <td>65.000000</td>\n",
       "      <td>28.500000</td>\n",
       "      <td>0.000000</td>\n",
       "      <td>0.000000</td>\n",
       "      <td>0.000000</td>\n",
       "      <td>3.000000</td>\n",
       "      <td>45.000000</td>\n",
       "      <td>0.000000</td>\n",
       "      <td>65.000000</td>\n",
       "      <td>28.500000</td>\n",
       "      <td>0.000000</td>\n",
       "      <td>0.000000</td>\n",
       "      <td>0.000000</td>\n",
       "      <td>3.000000</td>\n",
       "      <td>45.000000</td>\n",
       "      <td>0.000000</td>\n",
       "    </tr>\n",
       "    <tr>\n",
       "      <th>25%</th>\n",
       "      <td>1.000000</td>\n",
       "      <td>1.000000</td>\n",
       "      <td>6.000000</td>\n",
       "      <td>-3.000000</td>\n",
       "      <td>0.000000</td>\n",
       "      <td>0.000000</td>\n",
       "      <td>0.000000</td>\n",
       "      <td>-1.000000</td>\n",
       "      <td>1.000000</td>\n",
       "      <td>1.000000</td>\n",
       "      <td>-3.000000</td>\n",
       "      <td>-1.000000</td>\n",
       "      <td>0.407407</td>\n",
       "      <td>0.408670</td>\n",
       "      <td>0.000000</td>\n",
       "      <td>0.997418</td>\n",
       "      <td>0.408670</td>\n",
       "      <td>47.500000</td>\n",
       "      <td>93.000000</td>\n",
       "      <td>45.650000</td>\n",
       "      <td>1.296429</td>\n",
       "      <td>3.833333</td>\n",
       "      <td>4.000000</td>\n",
       "      <td>8.000000</td>\n",
       "      <td>88.750000</td>\n",
       "      <td>3.000000</td>\n",
       "      <td>93.000000</td>\n",
       "      <td>45.650000</td>\n",
       "      <td>1.296429</td>\n",
       "      <td>3.833333</td>\n",
       "      <td>4.000000</td>\n",
       "      <td>8.000000</td>\n",
       "      <td>88.750000</td>\n",
       "      <td>3.000000</td>\n",
       "    </tr>\n",
       "    <tr>\n",
       "      <th>50%</th>\n",
       "      <td>1.000000</td>\n",
       "      <td>1.000000</td>\n",
       "      <td>12.500000</td>\n",
       "      <td>0.000000</td>\n",
       "      <td>1.000000</td>\n",
       "      <td>1.000000</td>\n",
       "      <td>0.500000</td>\n",
       "      <td>0.000000</td>\n",
       "      <td>1.000000</td>\n",
       "      <td>1.000000</td>\n",
       "      <td>0.000000</td>\n",
       "      <td>0.000000</td>\n",
       "      <td>0.500000</td>\n",
       "      <td>0.500000</td>\n",
       "      <td>1.000000</td>\n",
       "      <td>1.152499</td>\n",
       "      <td>0.500000</td>\n",
       "      <td>50.000000</td>\n",
       "      <td>98.850000</td>\n",
       "      <td>50.428571</td>\n",
       "      <td>1.600000</td>\n",
       "      <td>5.000000</td>\n",
       "      <td>4.857143</td>\n",
       "      <td>9.045455</td>\n",
       "      <td>93.707143</td>\n",
       "      <td>6.000000</td>\n",
       "      <td>98.850000</td>\n",
       "      <td>50.428571</td>\n",
       "      <td>1.600000</td>\n",
       "      <td>5.000000</td>\n",
       "      <td>4.857143</td>\n",
       "      <td>9.045455</td>\n",
       "      <td>93.707143</td>\n",
       "      <td>6.000000</td>\n",
       "    </tr>\n",
       "    <tr>\n",
       "      <th>75%</th>\n",
       "      <td>1.000000</td>\n",
       "      <td>1.000000</td>\n",
       "      <td>18.000000</td>\n",
       "      <td>2.000000</td>\n",
       "      <td>2.000000</td>\n",
       "      <td>2.000000</td>\n",
       "      <td>1.000000</td>\n",
       "      <td>0.000000</td>\n",
       "      <td>1.000000</td>\n",
       "      <td>1.000000</td>\n",
       "      <td>2.000000</td>\n",
       "      <td>0.000000</td>\n",
       "      <td>0.590909</td>\n",
       "      <td>0.588612</td>\n",
       "      <td>3.000000</td>\n",
       "      <td>1.336093</td>\n",
       "      <td>0.588612</td>\n",
       "      <td>52.200000</td>\n",
       "      <td>109.343750</td>\n",
       "      <td>55.500000</td>\n",
       "      <td>2.000000</td>\n",
       "      <td>6.000000</td>\n",
       "      <td>5.666667</td>\n",
       "      <td>10.666667</td>\n",
       "      <td>99.666667</td>\n",
       "      <td>9.000000</td>\n",
       "      <td>109.343750</td>\n",
       "      <td>55.500000</td>\n",
       "      <td>2.000000</td>\n",
       "      <td>6.000000</td>\n",
       "      <td>5.666667</td>\n",
       "      <td>10.666667</td>\n",
       "      <td>99.666667</td>\n",
       "      <td>9.000000</td>\n",
       "    </tr>\n",
       "    <tr>\n",
       "      <th>max</th>\n",
       "      <td>4.000000</td>\n",
       "      <td>3.000000</td>\n",
       "      <td>26.000000</td>\n",
       "      <td>13.000000</td>\n",
       "      <td>7.000000</td>\n",
       "      <td>7.000000</td>\n",
       "      <td>1.000000</td>\n",
       "      <td>3.000000</td>\n",
       "      <td>4.000000</td>\n",
       "      <td>3.000000</td>\n",
       "      <td>13.000000</td>\n",
       "      <td>3.000000</td>\n",
       "      <td>1.000000</td>\n",
       "      <td>1.000000</td>\n",
       "      <td>3.000000</td>\n",
       "      <td>2.166667</td>\n",
       "      <td>1.000000</td>\n",
       "      <td>66.000000</td>\n",
       "      <td>143.000000</td>\n",
       "      <td>78.400000</td>\n",
       "      <td>5.000000</td>\n",
       "      <td>12.000000</td>\n",
       "      <td>9.000000</td>\n",
       "      <td>16.000000</td>\n",
       "      <td>128.000000</td>\n",
       "      <td>14.000000</td>\n",
       "      <td>143.000000</td>\n",
       "      <td>78.400000</td>\n",
       "      <td>5.000000</td>\n",
       "      <td>12.000000</td>\n",
       "      <td>9.000000</td>\n",
       "      <td>16.000000</td>\n",
       "      <td>128.000000</td>\n",
       "      <td>14.000000</td>\n",
       "    </tr>\n",
       "  </tbody>\n",
       "</table>\n",
       "</div>"
      ],
      "text/plain": [
       "        avg_goals  avg_points  games_played   goal_diff  goals_against  \\\n",
       "count  480.000000  480.000000    480.000000  480.000000     480.000000   \n",
       "mean     1.018750    0.977083     12.393750   -0.041667       1.364583   \n",
       "std      0.506392    0.557260      6.922262    4.373761       1.142460   \n",
       "min      0.000000    0.000000      1.000000  -20.000000       0.000000   \n",
       "25%      1.000000    1.000000      6.000000   -3.000000       0.000000   \n",
       "50%      1.000000    1.000000     12.500000    0.000000       1.000000   \n",
       "75%      1.000000    1.000000     18.000000    2.000000       2.000000   \n",
       "max      4.000000    3.000000     26.000000   13.000000       7.000000   \n",
       "\n",
       "        goals_for     is_home      margin  opp_avg_goals  opp_avg_points  \\\n",
       "count  480.000000  480.000000  480.000000     480.000000      480.000000   \n",
       "mean     1.387500    0.500000   -0.427083       1.018750        0.977083   \n",
       "std      1.150406    0.500522    0.692109       0.506392        0.557260   \n",
       "min      0.000000    0.000000   -3.000000       0.000000        0.000000   \n",
       "25%      0.000000    0.000000   -1.000000       1.000000        1.000000   \n",
       "50%      1.000000    0.500000    0.000000       1.000000        1.000000   \n",
       "75%      2.000000    1.000000    0.000000       1.000000        1.000000   \n",
       "max      7.000000    1.000000    3.000000       4.000000        3.000000   \n",
       "\n",
       "       opp_goal_diff  opp_margin  opp_opp_record  opp_win_percentage  \\\n",
       "count     480.000000  480.000000      480.000000          480.000000   \n",
       "mean       -0.041667   -0.427083        0.500201            0.499875   \n",
       "std         4.373761    0.692109        0.164743            0.164815   \n",
       "min       -20.000000   -3.000000        0.000000            0.000000   \n",
       "25%        -3.000000   -1.000000        0.407407            0.408670   \n",
       "50%         0.000000    0.000000        0.500000            0.500000   \n",
       "75%         2.000000    0.000000        0.590909            0.588612   \n",
       "max        13.000000    3.000000        1.000000            1.000000   \n",
       "\n",
       "           points         sos  win_percentage  current_team_possession  \\\n",
       "count  480.000000  480.000000      480.000000               480.000000   \n",
       "mean     1.333333    1.166982        0.499875                50.004392   \n",
       "std      1.248520    0.304611        0.164815                 3.825790   \n",
       "min      0.000000    0.185185        0.000000                34.000000   \n",
       "25%      0.000000    0.997418        0.408670                47.500000   \n",
       "50%      1.000000    1.152499        0.500000                50.000000   \n",
       "75%      3.000000    1.336093        0.588612                52.200000   \n",
       "max      3.000000    2.166667        1.000000                66.000000   \n",
       "\n",
       "       current_team_attacks  current_team_dangerous_attacks  \\\n",
       "count            480.000000                      480.000000   \n",
       "mean             100.841481                       50.969118   \n",
       "std               12.731148                        8.455986   \n",
       "min               65.000000                       28.500000   \n",
       "25%               93.000000                       45.650000   \n",
       "50%               98.850000                       50.428571   \n",
       "75%              109.343750                       55.500000   \n",
       "max              143.000000                       78.400000   \n",
       "\n",
       "       current_team_yellow_card  current_team_corner_kicks  \\\n",
       "count                480.000000                 480.000000   \n",
       "mean                   1.659965                   4.988794   \n",
       "std                    0.597197                   1.656228   \n",
       "min                    0.000000                   0.000000   \n",
       "25%                    1.296429                   3.833333   \n",
       "50%                    1.600000                   5.000000   \n",
       "75%                    2.000000                   6.000000   \n",
       "max                    5.000000                  12.000000   \n",
       "\n",
       "       current_team_shots_on_target  current_team_shots_total  \\\n",
       "count                    480.000000                480.000000   \n",
       "mean                       4.889909                  9.345730   \n",
       "std                        1.292097                  2.071212   \n",
       "min                        0.000000                  3.000000   \n",
       "25%                        4.000000                  8.000000   \n",
       "50%                        4.857143                  9.045455   \n",
       "75%                        5.666667                 10.666667   \n",
       "max                        9.000000                 16.000000   \n",
       "\n",
       "       current_team_ball_safe  current_team_played  current_opp_attacks  \\\n",
       "count              480.000000           480.000000           480.000000   \n",
       "mean                93.778691             5.995833           100.841481   \n",
       "std                 10.554401             3.545703            12.731148   \n",
       "min                 45.000000             0.000000            65.000000   \n",
       "25%                 88.750000             3.000000            93.000000   \n",
       "50%                 93.707143             6.000000            98.850000   \n",
       "75%                 99.666667             9.000000           109.343750   \n",
       "max                128.000000            14.000000           143.000000   \n",
       "\n",
       "       current_opp_dangerous_attacks  current_opp_yellow_card  \\\n",
       "count                     480.000000               480.000000   \n",
       "mean                       50.969118                 1.659965   \n",
       "std                         8.455986                 0.597197   \n",
       "min                        28.500000                 0.000000   \n",
       "25%                        45.650000                 1.296429   \n",
       "50%                        50.428571                 1.600000   \n",
       "75%                        55.500000                 2.000000   \n",
       "max                        78.400000                 5.000000   \n",
       "\n",
       "       current_opp_corner_kicks  current_opp_shots_on_target  \\\n",
       "count                480.000000                   480.000000   \n",
       "mean                   4.988794                     4.889909   \n",
       "std                    1.656228                     1.292097   \n",
       "min                    0.000000                     0.000000   \n",
       "25%                    3.833333                     4.000000   \n",
       "50%                    5.000000                     4.857143   \n",
       "75%                    6.000000                     5.666667   \n",
       "max                   12.000000                     9.000000   \n",
       "\n",
       "       current_opp_shots_total  current_opp_ball_safe  current_opp_played  \n",
       "count               480.000000             480.000000          480.000000  \n",
       "mean                  9.345730              93.778691            5.995833  \n",
       "std                   2.071212              10.554401            3.545703  \n",
       "min                   3.000000              45.000000            0.000000  \n",
       "25%                   8.000000              88.750000            3.000000  \n",
       "50%                   9.045455              93.707143            6.000000  \n",
       "75%                  10.666667              99.666667            9.000000  \n",
       "max                  16.000000             128.000000           14.000000  "
      ]
     },
     "metadata": {},
     "output_type": "display_data"
    },
    {
     "name": "stdout",
     "output_type": "stream",
     "text": [
      "(480, 34)\n"
     ]
    }
   ],
   "source": [
    "# ha = home-away\n",
    "standard_cols = ['games_played', 'is_home', 'avg_points', 'goals_for', 'goals_against', 'avg_goals', 'margin', 'goal_diff',\n",
    "                'win_percentage', 'sos', 'opp_avg_points', 'opp_avg_goals', 'opp_margin', 'opp_goal_diff', 'opp_win_percentage',\n",
    "                'opp_opp_record', 'points']\n",
    "# 17 each\n",
    "home_cols = ['current_team_home_possession', 'current_team_home_attacks', 'current_team_home_dangerous_attacks', 'current_team_home_yellow_card',\n",
    "            'current_team_home_corner_kicks', 'current_team_home_shots_on_target', 'current_team_home_shots_total', 'current_team_home_ball_safe',\n",
    "            'current_team_home_played', 'current_opp_away_attacks', 'current_opp_away_dangerous_attacks', 'current_opp_away_yellow_card',\n",
    "            'current_opp_away_corner_kicks', 'current_opp_away_shots_on_target', 'current_opp_away_shots_total', 'current_opp_away_ball_safe',\n",
    "            'current_opp_away_played']\n",
    "away_cols = ['current_team_away_possession', 'current_team_away_attacks', 'current_team_away_dangerous_attacks', 'current_team_away_yellow_card', \n",
    "            'current_team_away_corner_kicks', 'current_team_away_shots_on_target', 'current_team_away_shots_total', 'current_team_away_ball_safe', \n",
    "            'current_team_away_played', 'current_opp_home_attacks', 'current_opp_home_dangerous_attacks', 'current_opp_home_yellow_card', 'current_opp_home_corner_kicks', \n",
    "             'current_opp_home_shots_on_target', 'current_opp_home_shots_total', 'current_opp_home_ball_safe', 'current_opp_home_played']\n",
    "\n",
    "def rename_column(label):\n",
    "    if label.count('_home_') > 0:\n",
    "        new_name = label.replace('_home_', '_')\n",
    "    elif label.count('_away_') > 0:\n",
    "        new_name = label.replace('_away_', '_')\n",
    "    return new_name\n",
    "\n",
    "# Creates new column list for merged columns\n",
    "merged_cols = []\n",
    "\n",
    "for cols in home_cols:\n",
    "    merged_cols.append(rename_column(cols))\n",
    "    \n",
    "# Creates a Home and Away Table with Standard and Home/Away Columns.  Will evenutally merge together\n",
    "ha_data = model_libs._clone_and_drop(raw_data, ignore_cols)\n",
    "home_data = ha_data.loc[ha_data.loc[:, 'is_home'] == 1, standard_cols + home_cols]\n",
    "away_data = ha_data.loc[ha_data.loc[:, 'is_home'] == 0, standard_cols + away_cols]\n",
    "\n",
    "#display(away_data.describe())\n",
    "#display(home_data.describe())\n",
    "\n",
    "# Appends the Home Table with the Away Table\n",
    "ha_data = home_data.append(away_data)\n",
    "\n",
    "def pick_column(home, away):\n",
    "    if np.isnan(home):\n",
    "        return away\n",
    "    elif np.isnan(away):\n",
    "        return home\n",
    "\n",
    "# Combine Home/Away Columns into one for Current Team and Opponent.  Cuts down on Features\n",
    "# Adds from whatever column that doesn't have Nan\n",
    "for c in range(len(merged_cols)):\n",
    "    ha_data[merged_cols[c]] = ha_data.apply(lambda row: pick_column(row[home_cols[c]], row[away_cols[c]]), axis=1 )\n",
    "\n",
    "ha_data = ha_data.drop(home_cols + away_cols, axis=1)\n",
    "    \n",
    "display(ha_data.describe())\n",
    "\n",
    "print(ha_data.shape)\n",
    "#(y, X) = model_libs._extract_target(home_away_data, target_col)"
   ]
  },
  {
   "cell_type": "code",
   "execution_count": 122,
   "metadata": {
    "collapsed": false
   },
   "outputs": [
    {
     "name": "stdout",
     "output_type": "stream",
     "text": [
      "(480, 33)\n"
     ]
    }
   ],
   "source": [
    "(y, X) = model_libs._extract_target(ha_data, target_col)\n",
    "print(X.shape)"
   ]
  },
  {
   "cell_type": "code",
   "execution_count": 123,
   "metadata": {
    "collapsed": false
   },
   "outputs": [
    {
     "name": "stdout",
     "output_type": "stream",
     "text": [
      "Training SVC Modeling\n"
     ]
    },
    {
     "name": "stderr",
     "output_type": "stream",
     "text": [
      "//anaconda/lib/python2.7/site-packages/sklearn/metrics/classification.py:756: DeprecationWarning: The default `weighted` averaging is deprecated, and from version 0.18, use of precision, recall or F-score with multiclass or multilabel data or pos_label=None will result in an exception. Please set an explicit value for `average`, one of (None, 'micro', 'macro', 'weighted', 'samples'). In cross validation use, for instance, scoring=\"f1_weighted\" instead of scoring=\"f1\".\n",
      "  sample_weight=sample_weight)\n",
      "//anaconda/lib/python2.7/site-packages/sklearn/metrics/classification.py:756: DeprecationWarning: The default `weighted` averaging is deprecated, and from version 0.18, use of precision, recall or F-score with multiclass or multilabel data or pos_label=None will result in an exception. Please set an explicit value for `average`, one of (None, 'micro', 'macro', 'weighted', 'samples'). In cross validation use, for instance, scoring=\"f1_weighted\" instead of scoring=\"f1\".\n",
      "  sample_weight=sample_weight)\n",
      "//anaconda/lib/python2.7/site-packages/sklearn/metrics/classification.py:756: DeprecationWarning: The default `weighted` averaging is deprecated, and from version 0.18, use of precision, recall or F-score with multiclass or multilabel data or pos_label=None will result in an exception. Please set an explicit value for `average`, one of (None, 'micro', 'macro', 'weighted', 'samples'). In cross validation use, for instance, scoring=\"f1_weighted\" instead of scoring=\"f1\".\n",
      "  sample_weight=sample_weight)\n",
      "//anaconda/lib/python2.7/site-packages/sklearn/metrics/classification.py:1074: UndefinedMetricWarning: F-score is ill-defined and being set to 0.0 in labels with no predicted samples.\n",
      "  'precision', 'predicted', average, warn_for)\n",
      "//anaconda/lib/python2.7/site-packages/sklearn/metrics/classification.py:1076: UndefinedMetricWarning: F-score is ill-defined and being set to 0.0 in labels with no true samples.\n",
      "  'recall', 'true', average, warn_for)\n",
      "//anaconda/lib/python2.7/site-packages/sklearn/metrics/classification.py:756: DeprecationWarning: The default `weighted` averaging is deprecated, and from version 0.18, use of precision, recall or F-score with multiclass or multilabel data or pos_label=None will result in an exception. Please set an explicit value for `average`, one of (None, 'micro', 'macro', 'weighted', 'samples'). In cross validation use, for instance, scoring=\"f1_weighted\" instead of scoring=\"f1\".\n",
      "  sample_weight=sample_weight)\n"
     ]
    },
    {
     "name": "stdout",
     "output_type": "stream",
     "text": [
      "F1 score for training set: 0.580827447809\n",
      "F1 score for test set: 0.462373060265\n",
      "Finished SVC Modeling\n",
      "Training GMM Modeling\n",
      "F1 score for training set: 0.130283816425\n",
      "F1 score for test set: 0.166935483871\n",
      "('Scores :', [0.10918065522018523])\n",
      "Finished GMM Modeling\n",
      "Training K-Means Modeling\n",
      "F1 score for training set: 0.226875178542\n",
      "F1 score for test set: 0.268656501726\n",
      "Finished SVC Modeling\n",
      "Finished K-Means Modeling\n",
      "Training Gaussian NB Modeling\n",
      "F1 score for training set: 0.523462734498\n",
      "F1 score for test set: 0.464802014518\n",
      "Finished Gaussian NB Modeling\n"
     ]
    },
    {
     "name": "stderr",
     "output_type": "stream",
     "text": [
      "//anaconda/lib/python2.7/site-packages/sklearn/metrics/classification.py:756: DeprecationWarning: The default `weighted` averaging is deprecated, and from version 0.18, use of precision, recall or F-score with multiclass or multilabel data or pos_label=None will result in an exception. Please set an explicit value for `average`, one of (None, 'micro', 'macro', 'weighted', 'samples'). In cross validation use, for instance, scoring=\"f1_weighted\" instead of scoring=\"f1\".\n",
      "  sample_weight=sample_weight)\n",
      "//anaconda/lib/python2.7/site-packages/sklearn/metrics/classification.py:756: DeprecationWarning: The default `weighted` averaging is deprecated, and from version 0.18, use of precision, recall or F-score with multiclass or multilabel data or pos_label=None will result in an exception. Please set an explicit value for `average`, one of (None, 'micro', 'macro', 'weighted', 'samples'). In cross validation use, for instance, scoring=\"f1_weighted\" instead of scoring=\"f1\".\n",
      "  sample_weight=sample_weight)\n",
      "//anaconda/lib/python2.7/site-packages/sklearn/metrics/classification.py:756: DeprecationWarning: The default `weighted` averaging is deprecated, and from version 0.18, use of precision, recall or F-score with multiclass or multilabel data or pos_label=None will result in an exception. Please set an explicit value for `average`, one of (None, 'micro', 'macro', 'weighted', 'samples'). In cross validation use, for instance, scoring=\"f1_weighted\" instead of scoring=\"f1\".\n",
      "  sample_weight=sample_weight)\n",
      "//anaconda/lib/python2.7/site-packages/sklearn/metrics/classification.py:756: DeprecationWarning: The default `weighted` averaging is deprecated, and from version 0.18, use of precision, recall or F-score with multiclass or multilabel data or pos_label=None will result in an exception. Please set an explicit value for `average`, one of (None, 'micro', 'macro', 'weighted', 'samples'). In cross validation use, for instance, scoring=\"f1_weighted\" instead of scoring=\"f1\".\n",
      "  sample_weight=sample_weight)\n"
     ]
    }
   ],
   "source": [
    "svc, gmm, kmeans, gnb = train_models(round_number, X, y)"
   ]
  },
  {
   "cell_type": "markdown",
   "metadata": {},
   "source": [
    "Now testing table with standard and extended features"
   ]
  },
  {
   "cell_type": "code",
   "execution_count": 124,
   "metadata": {
    "collapsed": false
   },
   "outputs": [
    {
     "name": "stdout",
     "output_type": "stream",
     "text": [
      "(480, 76)\n",
      "(480, 42)\n"
     ]
    }
   ],
   "source": [
    "# ef = extended features\n",
    "ef_data = model_libs._clone_and_drop(raw_data, ignore_cols)\n",
    "print(ef_data.shape)\n",
    "ef_data = ef_data.drop(home_cols + away_cols, axis=1)\n",
    "print(ef_data.shape)"
   ]
  },
  {
   "cell_type": "code",
   "execution_count": null,
   "metadata": {
    "collapsed": false
   },
   "outputs": [
    {
     "name": "stdout",
     "output_type": "stream",
     "text": [
      "Training SVC Modeling\n"
     ]
    }
   ],
   "source": [
    "(y, X) = model_libs._extract_target(ef_data, target_col)\n",
    "svc, gmm, kmeans, gnb = train_models(round_number, X, y)"
   ]
  },
  {
   "cell_type": "code",
   "execution_count": null,
   "metadata": {
    "collapsed": true
   },
   "outputs": [],
   "source": []
  }
 ],
 "metadata": {
  "kernelspec": {
   "display_name": "Python 2",
   "language": "python",
   "name": "python2"
  },
  "language_info": {
   "codemirror_mode": {
    "name": "ipython",
    "version": 2
   },
   "file_extension": ".py",
   "mimetype": "text/x-python",
   "name": "python",
   "nbconvert_exporter": "python",
   "pygments_lexer": "ipython2",
   "version": "2.7.11"
  }
 },
 "nbformat": 4,
 "nbformat_minor": 0
}
