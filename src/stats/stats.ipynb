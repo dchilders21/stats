{
 "cells": [
  {
   "cell_type": "markdown",
   "metadata": {},
   "source": [
    "Importing Libraries"
   ]
  },
  {
   "cell_type": "code",
   "execution_count": 9,
   "metadata": {
    "collapsed": false
   },
   "outputs": [
    {
     "name": "stdout",
     "output_type": "stream",
     "text": [
      "/Users/senzari/Machine_Learning/stats/src\n"
     ]
    }
   ],
   "source": [
    "import sys\n",
    "import os\n",
    "import numpy as np\n",
    "import renders as rs\n",
    "import matplotlib.pyplot as plt\n",
    "from sklearn.decomposition import PCA\n",
    "import renders as rs\n",
    "from IPython.display import display # Allows the use of display() for DataFrames\n",
    "from sklearn.externals import joblib\n",
    "from sklearn.cluster import KMeans\n",
    "# Show matplotlib plots inline (nicely formatted in the notebook)\n",
    "%matplotlib inline\n",
    "sys.path.append('/Users/senzari/Machine_Learning/stats/src/stats/match_stats.py')\n",
    "sys.path.append('/Users/senzari/Machine_Learning/stats/src/stats/form_model.py')\n",
    "sys.path.append('/anaconda/envs/stats/lib/python3.5/site-packages')\n",
    "sys.path.append('/Users/senzari/Machine_Learning/stats/src/stats/model_libs.py')\n",
    "sys.path.append('/Users/senzari/Machine_Learning/stats/src/stats/form_data.py')\n",
    "sys.path.append('/Users/senzari/Machine_Learning/stats')\n",
    "sys.path.append('/Users/senzari/Machine_Learning/stats/src/stats')\n",
    "# print(sys.path)\n",
    "os.chdir('/Users/senzari/Machine_Learning/stats/src')\n",
    "print(os.getcwd())\n",
    "\n",
    "from stats import form_data, match_stats, model_libs, form_model"
   ]
  },
  {
   "cell_type": "code",
   "execution_count": 10,
   "metadata": {
    "collapsed": false
   },
   "outputs": [],
   "source": [
    "import pandas as pd \n",
    "# Reading in a CSV adds the first index column\n",
    "training_data = pd.read_csv('round25.csv')\n",
    "training_data = training_data.drop(training_data.columns[[0]], axis=1)"
   ]
  },
  {
   "cell_type": "markdown",
   "metadata": {},
   "source": [
    "Find all matches"
   ]
  },
  {
   "cell_type": "code",
   "execution_count": null,
   "metadata": {
    "collapsed": false
   },
   "outputs": [],
   "source": [
    "# predictor_model = form_model.build_model(training_data)\n",
    "\n",
    "# joblib.dump(predictor_model, 'pn.pkl')\n",
    "predictor_model = joblib.load('pn.pkl')"
   ]
  },
  {
   "cell_type": "code",
   "execution_count": null,
   "metadata": {
    "collapsed": false
   },
   "outputs": [],
   "source": [
    "from stats import predict_matches\n",
    "predictions, upcoming_matches = predict_matches.predictions(predictor_model)"
   ]
  },
  {
   "cell_type": "code",
   "execution_count": null,
   "metadata": {
    "collapsed": false
   },
   "outputs": [],
   "source": [
    "columns = ['team_name', 'opp_name', 'scheduled']\n",
    "# Remove all columns except the ones abovev\n",
    "upcoming_matches = upcoming_matches[columns]\n",
    "# Add predictions to the end of that DF\n",
    "upcoming_matches = upcoming_matches.join(pd.DataFrame(df))\n",
    "upcoming_matches = upcoming_matches[(upcoming_matches['scheduled'] < '2016-08-26')]\n",
    "upcoming_matches.to_csv('predictions_08_24_2016.csv')"
   ]
  },
  {
   "cell_type": "code",
   "execution_count": 16,
   "metadata": {
    "collapsed": false
   },
   "outputs": [
    {
     "data": {
      "text/plain": [
       "'X, y = form_model.get_split(training_data)\\npca = PCA(n_components=6)\\npca.fit(X)\\n# Generate PCA results plot\\npca_results = rs.pca_results(X, pca)'"
      ]
     },
     "execution_count": 16,
     "metadata": {},
     "output_type": "execute_result"
    }
   ],
   "source": [
    "\"\"\"X, y = form_model.get_split(training_data)\n",
    "pca = PCA(n_components=6)\n",
    "pca.fit(X)\n",
    "# Generate PCA results plot\n",
    "pca_results = rs.pca_results(X, pca)\"\"\""
   ]
  },
  {
   "cell_type": "code",
   "execution_count": 3,
   "metadata": {
    "collapsed": false
   },
   "outputs": [
    {
     "name": "stdout",
     "output_type": "stream",
     "text": [
      "(3, 'clusters:', 0.1182738784917476)\n"
     ]
    },
    {
     "data": {
      "text/plain": [
       "['gmm.pkl', 'gmm.pkl_01.npy', 'gmm.pkl_02.npy', 'gmm.pkl_03.npy']"
      ]
     },
     "execution_count": 3,
     "metadata": {},
     "output_type": "execute_result"
    }
   ],
   "source": [
    "# sil_scores, predictor_model = form_model.build_model(training_data, 'gmm')\n",
    "# joblib.dump(predictor_model, 'gmm.pkl')\n",
    "# Can we tell by the centers of the data the results of the game\n",
    "# true_centers = pd.DataFrame(np.round(centers), columns = reduced_data.keys())"
   ]
  },
  {
   "cell_type": "code",
   "execution_count": 7,
   "metadata": {
    "collapsed": false
   },
   "outputs": [
    {
     "name": "stdout",
     "output_type": "stream",
     "text": [
      "[1 1 1 0 0 2 1 2 0 1 0 0 1 2 2 0 0 0 0 0 2 2 0 0 1 1 1 1 1 2 1 1]\n"
     ]
    }
   ],
   "source": [
    "predictor_model = joblib.load('gmm.pkl')\n",
    "from stats import predict_matches\n",
    "predictions, upcoming_matches = predict_matches.predictions(predictor_model)\n",
    "print(predictions)\n",
    "columns = ['team_name', 'opp_name', 'scheduled']\n",
    "# Remove all columns except the ones abovev\n",
    "upcoming_matches = upcoming_matches[columns]\n",
    "# Add predictions to the end of that DF\n",
    "upcoming_matches = upcoming_matches.join(pd.DataFrame(predictions))\n",
    "upcoming_matches = upcoming_matches[(upcoming_matches['scheduled'] < '2016-08-26')]\n",
    "upcoming_matches.to_csv('predictions_gmm_08_24_2016.csv')"
   ]
  },
  {
   "cell_type": "code",
   "execution_count": null,
   "metadata": {
    "collapsed": false
   },
   "outputs": [],
   "source": [
    "# Display the results of the clustering from implementation\n",
    "# rs.cluster_results(reduced_data, preds, centers)"
   ]
  },
  {
   "cell_type": "code",
   "execution_count": 11,
   "metadata": {
    "collapsed": false
   },
   "outputs": [
    {
     "data": {
      "text/plain": [
       "['kmeans.pkl', 'kmeans.pkl_01.npy', 'kmeans.pkl_02.npy']"
      ]
     },
     "execution_count": 11,
     "metadata": {},
     "output_type": "execute_result"
    }
   ],
   "source": [
    "X, y = form_model.get_split(training_data)\n",
    "kmeans = KMeans(init='k-means++', n_clusters=3, n_init=10)\n",
    "predictor_model = kmeans.fit(X)\n",
    "joblib.dump(predictor_model, 'kmeans.pkl')"
   ]
  },
  {
   "cell_type": "code",
   "execution_count": 12,
   "metadata": {
    "collapsed": false
   },
   "outputs": [
    {
     "name": "stdout",
     "output_type": "stream",
     "text": [
      "[0 0 0 0 0 2 0 0 1 0 1 1 0 1 0 0 2 0 0 2 0 0 1 2 0 0 0 0 0 0 0 0]\n"
     ]
    }
   ],
   "source": [
    "predictor_model = joblib.load('kmeans.pkl')\n",
    "from stats import predict_matches\n",
    "predictions, upcoming_matches = predict_matches.predictions(predictor_model)\n",
    "print(predictions)\n",
    "columns = ['team_name', 'opp_name', 'scheduled']\n",
    "# Remove all columns except the ones abovev\n",
    "upcoming_matches = upcoming_matches[columns]\n",
    "# Add predictions to the end of that DF\n",
    "upcoming_matches = upcoming_matches.join(pd.DataFrame(predictions))\n",
    "upcoming_matches = upcoming_matches[(upcoming_matches['scheduled'] < '2016-08-26')]\n",
    "upcoming_matches.to_csv('predictions_kmeans_08_24_2016.csv')"
   ]
  },
  {
   "cell_type": "code",
   "execution_count": null,
   "metadata": {
    "collapsed": true
   },
   "outputs": [],
   "source": []
  }
 ],
 "metadata": {
  "kernelspec": {
   "display_name": "Python 2",
   "language": "python",
   "name": "python2"
  },
  "language_info": {
   "codemirror_mode": {
    "name": "ipython",
    "version": 2
   },
   "file_extension": ".py",
   "mimetype": "text/x-python",
   "name": "python",
   "nbconvert_exporter": "python",
   "pygments_lexer": "ipython2",
   "version": "2.7.11"
  }
 },
 "nbformat": 4,
 "nbformat_minor": 0
}
